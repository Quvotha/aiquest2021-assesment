{
 "cells": [
  {
   "cell_type": "markdown",
   "id": "390e2ee5",
   "metadata": {
    "papermill": {
     "duration": 0.007173,
     "end_time": "2023-05-14T22:56:32.512938",
     "exception": false,
     "start_time": "2023-05-14T22:56:32.505765",
     "status": "completed"
    },
    "tags": []
   },
   "source": [
    "Versions:\n",
    "\n",
    "- Version 1: 0.420  \n",
    "  Always predict `correct` = 1.\n",
    "\n",
    "- Version 6:  0.659\n",
    "  Prediction is default value of @CPMP\n",
    "\n",
    "- Version 7:  0.640\n",
    "  From Version 6 prediction for Q13 is replaced with model: \"q13_56_logreg_power_pipeline\"\n",
    "\n",
    "- Version 8: \n",
    "  From Version 6 prediction for Q15 is replaced with model: \"q13_56_logreg_power_pipeline\""
   ]
  },
  {
   "cell_type": "markdown",
   "id": "84ebb108",
   "metadata": {
    "papermill": {
     "duration": 0.006331,
     "end_time": "2023-05-14T22:56:32.526161",
     "exception": false,
     "start_time": "2023-05-14T22:56:32.519830",
     "status": "completed"
    },
    "tags": []
   },
   "source": [
    "## Prepare user script"
   ]
  },
  {
   "cell_type": "code",
   "execution_count": 1,
   "id": "05515206",
   "metadata": {
    "execution": {
     "iopub.execute_input": "2023-05-14T22:56:32.541383Z",
     "iopub.status.busy": "2023-05-14T22:56:32.540622Z",
     "iopub.status.idle": "2023-05-14T22:56:32.545528Z",
     "shell.execute_reply": "2023-05-14T22:56:32.544659Z"
    },
    "papermill": {
     "duration": 0.019142,
     "end_time": "2023-05-14T22:56:32.551761",
     "exception": false,
     "start_time": "2023-05-14T22:56:32.532619",
     "status": "completed"
    },
    "tags": []
   },
   "outputs": [],
   "source": [
    "# import os\n",
    "# WORK_DIR = os.getcwd()\n",
    "\n",
    "# %cd \"/kaggle/input/kaggle-psp-training-q13-56-logreg-power/kaggle-psp/kaggle_psp/feature_extraction/\"\n",
    "\n",
    "# !python setup.py build_ext --inplace\n",
    "\n",
    "# os.chdir(WORK_DIR)"
   ]
  },
  {
   "cell_type": "code",
   "execution_count": 2,
   "id": "5231fca7",
   "metadata": {
    "execution": {
     "iopub.execute_input": "2023-05-14T22:56:32.566807Z",
     "iopub.status.busy": "2023-05-14T22:56:32.566167Z",
     "iopub.status.idle": "2023-05-14T22:56:32.577044Z",
     "shell.execute_reply": "2023-05-14T22:56:32.576015Z"
    },
    "papermill": {
     "duration": 0.021406,
     "end_time": "2023-05-14T22:56:32.579622",
     "exception": false,
     "start_time": "2023-05-14T22:56:32.558216",
     "status": "completed"
    },
    "tags": []
   },
   "outputs": [],
   "source": [
    "import sys\n",
    "SCRIPT_DIR = \"/kaggle/input/kaggle-psp-training-q13-56-logreg-power/kaggle-psp\"\n",
    "if SCRIPT_DIR not in sys.path: sys.path.append(SCRIPT_DIR)"
   ]
  },
  {
   "cell_type": "markdown",
   "id": "5e493d55",
   "metadata": {
    "papermill": {
     "duration": 0.006442,
     "end_time": "2023-05-14T22:56:32.592534",
     "exception": false,
     "start_time": "2023-05-14T22:56:32.586092",
     "status": "completed"
    },
    "tags": []
   },
   "source": [
    "## Import library"
   ]
  },
  {
   "cell_type": "code",
   "execution_count": 3,
   "id": "0bffe1be",
   "metadata": {
    "execution": {
     "iopub.execute_input": "2023-05-14T22:56:32.607821Z",
     "iopub.status.busy": "2023-05-14T22:56:32.607021Z",
     "iopub.status.idle": "2023-05-14T22:56:33.704119Z",
     "shell.execute_reply": "2023-05-14T22:56:33.702810Z"
    },
    "papermill": {
     "duration": 1.107714,
     "end_time": "2023-05-14T22:56:33.706759",
     "exception": false,
     "start_time": "2023-05-14T22:56:32.599045",
     "status": "completed"
    },
    "tags": []
   },
   "outputs": [
    {
     "name": "stdout",
     "output_type": "stream",
     "text": [
      "kaggle-psp-features\r\n",
      "kaggle-psp-training-q13-56-logreg-power\r\n",
      "kaggle-psp-training-q15-9-gaussiannb\r\n",
      "predict-student-performance-from-game-play\r\n"
     ]
    }
   ],
   "source": [
    "!dir /kaggle/input/"
   ]
  },
  {
   "cell_type": "code",
   "execution_count": 4,
   "id": "7653225e",
   "metadata": {
    "execution": {
     "iopub.execute_input": "2023-05-14T22:56:33.722774Z",
     "iopub.status.busy": "2023-05-14T22:56:33.721857Z",
     "iopub.status.idle": "2023-05-14T22:56:34.806301Z",
     "shell.execute_reply": "2023-05-14T22:56:34.805169Z"
    },
    "papermill": {
     "duration": 1.095586,
     "end_time": "2023-05-14T22:56:34.808903",
     "exception": false,
     "start_time": "2023-05-14T22:56:33.713317",
     "status": "completed"
    },
    "tags": []
   },
   "outputs": [],
   "source": [
    "%load_ext Cython"
   ]
  },
  {
   "cell_type": "code",
   "execution_count": 5,
   "id": "a8494bec",
   "metadata": {
    "execution": {
     "iopub.execute_input": "2023-05-14T22:56:34.825511Z",
     "iopub.status.busy": "2023-05-14T22:56:34.824300Z",
     "iopub.status.idle": "2023-05-14T22:56:36.475533Z",
     "shell.execute_reply": "2023-05-14T22:56:36.474429Z"
    },
    "papermill": {
     "duration": 1.662367,
     "end_time": "2023-05-14T22:56:36.478557",
     "exception": false,
     "start_time": "2023-05-14T22:56:34.816190",
     "status": "completed"
    },
    "tags": []
   },
   "outputs": [
    {
     "name": "stderr",
     "output_type": "stream",
     "text": [
      "/opt/conda/lib/python3.10/site-packages/scipy/__init__.py:146: UserWarning: A NumPy version >=1.16.5 and <1.23.0 is required for this version of SciPy (detected version 1.23.5\n",
      "  warnings.warn(f\"A NumPy version >={np_minversion} and <{np_maxversion}\"\n"
     ]
    }
   ],
   "source": [
    "import json\n",
    "import pickle\n",
    "from typing import Tuple\n",
    "\n",
    "try:\n",
    "    import jo_wilder\n",
    "except ImportError:\n",
    "    import jo_wilder_310 as jo_wilder\n",
    "import pandas as pd\n",
    "from sklearn.impute import SimpleImputer\n",
    "from sklearn.linear_model import LogisticRegression\n",
    "from sklearn.model_selection import cross_validate, StratifiedKFold\n",
    "from sklearn.naive_bayes import GaussianNB, MultinomialNB\n",
    "from sklearn.pipeline import Pipeline\n",
    "from sklearn.preprocessing import MinMaxScaler, StandardScaler, PowerTransformer\n",
    "\n",
    "from kaggle_psp.base import get_available_levels_from, get_level_group_from, get_q_from\n",
    "from kaggle_psp.feature_extraction import (\n",
    "    TimeDiffFeatureGenerator, RoomMovementCountFeatureGenerator, ElapsedTimeFeatureGenerator,\n",
    "    LogCountFeatureGenerator, FlagCountFeatureGenerator\n",
    ")"
   ]
  },
  {
   "cell_type": "code",
   "execution_count": 6,
   "id": "1a323fe7",
   "metadata": {
    "execution": {
     "iopub.execute_input": "2023-05-14T22:56:36.493606Z",
     "iopub.status.busy": "2023-05-14T22:56:36.493189Z",
     "iopub.status.idle": "2023-05-14T22:56:36.499969Z",
     "shell.execute_reply": "2023-05-14T22:56:36.498812Z"
    },
    "papermill": {
     "duration": 0.017378,
     "end_time": "2023-05-14T22:56:36.502408",
     "exception": false,
     "start_time": "2023-05-14T22:56:36.485030",
     "status": "completed"
    },
    "tags": []
   },
   "outputs": [],
   "source": [
    "CATEGORIES = (\"text_fqid\", \"room_fqid\", \"event_name\")"
   ]
  },
  {
   "cell_type": "code",
   "execution_count": 7,
   "id": "fd621248",
   "metadata": {
    "execution": {
     "iopub.execute_input": "2023-05-14T22:56:36.517492Z",
     "iopub.status.busy": "2023-05-14T22:56:36.517111Z",
     "iopub.status.idle": "2023-05-14T22:56:36.524032Z",
     "shell.execute_reply": "2023-05-14T22:56:36.523144Z"
    },
    "papermill": {
     "duration": 0.01713,
     "end_time": "2023-05-14T22:56:36.526227",
     "exception": false,
     "start_time": "2023-05-14T22:56:36.509097",
     "status": "completed"
    },
    "tags": []
   },
   "outputs": [],
   "source": [
    "def order_dataframes(tow_dataframes: Tuple[pd.DataFrame, pd.DataFrame]) -> Tuple[pd.DataFrame, pd.DataFrame]:\n",
    "    \"\"\"Return (`sample_submission`, `test`) in this order always.\n",
    "    \"\"\"\n",
    "    # If there is column named `correct` that probably be `sample_submission`\n",
    "    if 'correct' in tow_dataframes[0]:\n",
    "        return two_dataframes[0], two_dataframes[1]  # samlpe_submission, test\n",
    "    else:\n",
    "        return two_dataframes[1], two_dataframes[0]"
   ]
  },
  {
   "cell_type": "code",
   "execution_count": 8,
   "id": "d92f17c6",
   "metadata": {
    "execution": {
     "iopub.execute_input": "2023-05-14T22:56:36.542776Z",
     "iopub.status.busy": "2023-05-14T22:56:36.541550Z",
     "iopub.status.idle": "2023-05-14T22:56:36.553793Z",
     "shell.execute_reply": "2023-05-14T22:56:36.552684Z"
    },
    "papermill": {
     "duration": 0.023207,
     "end_time": "2023-05-14T22:56:36.556406",
     "exception": false,
     "start_time": "2023-05-14T22:56:36.533199",
     "status": "completed"
    },
    "tags": []
   },
   "outputs": [],
   "source": [
    "def get_default_submission(sample_submission: pd.DataFrame) -> pd.DataFrame:\n",
    "    \"\"\"All prediction will be default value.\n",
    "\n",
    "    From @CPMP\n",
    "    https://www.kaggle.com/competitions/predict-student-performance-from-game-play/discussion/396970\n",
    "    \"\"\"\n",
    "    sample_submission.loc[sample_submission.question == 'q1', 'correct'] = 1 \n",
    "    sample_submission.loc[sample_submission.question == 'q2', 'correct'] = 1 \n",
    "    sample_submission.loc[sample_submission.question == 'q3', 'correct'] = 1 \n",
    "    sample_submission.loc[sample_submission.question == 'q4', 'correct'] = 1 \n",
    "    sample_submission.loc[sample_submission.question == 'q5', 'correct'] = 0 \n",
    "    sample_submission.loc[sample_submission.question == 'q6', 'correct'] = 1 \n",
    "    sample_submission.loc[sample_submission.question == 'q7', 'correct'] = 1 \n",
    "    sample_submission.loc[sample_submission.question == 'q8', 'correct'] = 0 \n",
    "    sample_submission.loc[sample_submission.question == 'q9', 'correct'] = 1 \n",
    "    sample_submission.loc[sample_submission.question == 'q10', 'correct'] = 0 \n",
    "    sample_submission.loc[sample_submission.question == 'q11', 'correct'] = 1 \n",
    "    sample_submission.loc[sample_submission.question == 'q12', 'correct'] = 1 \n",
    "    sample_submission.loc[sample_submission.question == 'q13', 'correct'] = 0 \n",
    "    sample_submission.loc[sample_submission.question == 'q14', 'correct'] = 1 \n",
    "    sample_submission.loc[sample_submission.question == 'q15', 'correct'] = 0\n",
    "    sample_submission.loc[sample_submission.question == 'q16', 'correct'] = 1\n",
    "    sample_submission.loc[sample_submission.question == 'q17', 'correct'] = 1\n",
    "    sample_submission.loc[sample_submission.question == 'q18', 'correct'] = 1\n",
    "    return sample_submission"
   ]
  },
  {
   "cell_type": "code",
   "execution_count": 9,
   "id": "9198a4c5",
   "metadata": {
    "execution": {
     "iopub.execute_input": "2023-05-14T22:56:36.571742Z",
     "iopub.status.busy": "2023-05-14T22:56:36.571010Z",
     "iopub.status.idle": "2023-05-14T22:56:36.596951Z",
     "shell.execute_reply": "2023-05-14T22:56:36.596042Z"
    },
    "papermill": {
     "duration": 0.036307,
     "end_time": "2023-05-14T22:56:36.599433",
     "exception": false,
     "start_time": "2023-05-14T22:56:36.563126",
     "status": "completed"
    },
    "tags": []
   },
   "outputs": [
    {
     "data": {
      "text/html": [
       "<style>#sk-container-id-1 {color: black;background-color: white;}#sk-container-id-1 pre{padding: 0;}#sk-container-id-1 div.sk-toggleable {background-color: white;}#sk-container-id-1 label.sk-toggleable__label {cursor: pointer;display: block;width: 100%;margin-bottom: 0;padding: 0.3em;box-sizing: border-box;text-align: center;}#sk-container-id-1 label.sk-toggleable__label-arrow:before {content: \"▸\";float: left;margin-right: 0.25em;color: #696969;}#sk-container-id-1 label.sk-toggleable__label-arrow:hover:before {color: black;}#sk-container-id-1 div.sk-estimator:hover label.sk-toggleable__label-arrow:before {color: black;}#sk-container-id-1 div.sk-toggleable__content {max-height: 0;max-width: 0;overflow: hidden;text-align: left;background-color: #f0f8ff;}#sk-container-id-1 div.sk-toggleable__content pre {margin: 0.2em;color: black;border-radius: 0.25em;background-color: #f0f8ff;}#sk-container-id-1 input.sk-toggleable__control:checked~div.sk-toggleable__content {max-height: 200px;max-width: 100%;overflow: auto;}#sk-container-id-1 input.sk-toggleable__control:checked~label.sk-toggleable__label-arrow:before {content: \"▾\";}#sk-container-id-1 div.sk-estimator input.sk-toggleable__control:checked~label.sk-toggleable__label {background-color: #d4ebff;}#sk-container-id-1 div.sk-label input.sk-toggleable__control:checked~label.sk-toggleable__label {background-color: #d4ebff;}#sk-container-id-1 input.sk-hidden--visually {border: 0;clip: rect(1px 1px 1px 1px);clip: rect(1px, 1px, 1px, 1px);height: 1px;margin: -1px;overflow: hidden;padding: 0;position: absolute;width: 1px;}#sk-container-id-1 div.sk-estimator {font-family: monospace;background-color: #f0f8ff;border: 1px dotted black;border-radius: 0.25em;box-sizing: border-box;margin-bottom: 0.5em;}#sk-container-id-1 div.sk-estimator:hover {background-color: #d4ebff;}#sk-container-id-1 div.sk-parallel-item::after {content: \"\";width: 100%;border-bottom: 1px solid gray;flex-grow: 1;}#sk-container-id-1 div.sk-label:hover label.sk-toggleable__label {background-color: #d4ebff;}#sk-container-id-1 div.sk-serial::before {content: \"\";position: absolute;border-left: 1px solid gray;box-sizing: border-box;top: 0;bottom: 0;left: 50%;z-index: 0;}#sk-container-id-1 div.sk-serial {display: flex;flex-direction: column;align-items: center;background-color: white;padding-right: 0.2em;padding-left: 0.2em;position: relative;}#sk-container-id-1 div.sk-item {position: relative;z-index: 1;}#sk-container-id-1 div.sk-parallel {display: flex;align-items: stretch;justify-content: center;background-color: white;position: relative;}#sk-container-id-1 div.sk-item::before, #sk-container-id-1 div.sk-parallel-item::before {content: \"\";position: absolute;border-left: 1px solid gray;box-sizing: border-box;top: 0;bottom: 0;left: 50%;z-index: -1;}#sk-container-id-1 div.sk-parallel-item {display: flex;flex-direction: column;z-index: 1;position: relative;background-color: white;}#sk-container-id-1 div.sk-parallel-item:first-child::after {align-self: flex-end;width: 50%;}#sk-container-id-1 div.sk-parallel-item:last-child::after {align-self: flex-start;width: 50%;}#sk-container-id-1 div.sk-parallel-item:only-child::after {width: 0;}#sk-container-id-1 div.sk-dashed-wrapped {border: 1px dashed gray;margin: 0 0.4em 0.5em 0.4em;box-sizing: border-box;padding-bottom: 0.4em;background-color: white;}#sk-container-id-1 div.sk-label label {font-family: monospace;font-weight: bold;display: inline-block;line-height: 1.2em;}#sk-container-id-1 div.sk-label-container {text-align: center;}#sk-container-id-1 div.sk-container {/* jupyter's `normalize.less` sets `[hidden] { display: none; }` but bootstrap.min.css set `[hidden] { display: none !important; }` so we also need the `!important` here to be able to override the default hidden behavior on the sphinx rendered scikit-learn.org. See: https://github.com/scikit-learn/scikit-learn/issues/21755 */display: inline-block !important;position: relative;}#sk-container-id-1 div.sk-text-repr-fallback {display: none;}</style><div id=\"sk-container-id-1\" class=\"sk-top-container\"><div class=\"sk-text-repr-fallback\"><pre>Pipeline(steps=[(&#x27;impute&#x27;, SimpleImputer(strategy=&#x27;median&#x27;)),\n",
       "                (&#x27;classifier&#x27;, GaussianNB())])</pre><b>In a Jupyter environment, please rerun this cell to show the HTML representation or trust the notebook. <br />On GitHub, the HTML representation is unable to render, please try loading this page with nbviewer.org.</b></div><div class=\"sk-container\" hidden><div class=\"sk-item sk-dashed-wrapped\"><div class=\"sk-label-container\"><div class=\"sk-label sk-toggleable\"><input class=\"sk-toggleable__control sk-hidden--visually\" id=\"sk-estimator-id-1\" type=\"checkbox\" ><label for=\"sk-estimator-id-1\" class=\"sk-toggleable__label sk-toggleable__label-arrow\">Pipeline</label><div class=\"sk-toggleable__content\"><pre>Pipeline(steps=[(&#x27;impute&#x27;, SimpleImputer(strategy=&#x27;median&#x27;)),\n",
       "                (&#x27;classifier&#x27;, GaussianNB())])</pre></div></div></div><div class=\"sk-serial\"><div class=\"sk-item\"><div class=\"sk-estimator sk-toggleable\"><input class=\"sk-toggleable__control sk-hidden--visually\" id=\"sk-estimator-id-2\" type=\"checkbox\" ><label for=\"sk-estimator-id-2\" class=\"sk-toggleable__label sk-toggleable__label-arrow\">SimpleImputer</label><div class=\"sk-toggleable__content\"><pre>SimpleImputer(strategy=&#x27;median&#x27;)</pre></div></div></div><div class=\"sk-item\"><div class=\"sk-estimator sk-toggleable\"><input class=\"sk-toggleable__control sk-hidden--visually\" id=\"sk-estimator-id-3\" type=\"checkbox\" ><label for=\"sk-estimator-id-3\" class=\"sk-toggleable__label sk-toggleable__label-arrow\">GaussianNB</label><div class=\"sk-toggleable__content\"><pre>GaussianNB()</pre></div></div></div></div></div></div></div>"
      ],
      "text/plain": [
       "Pipeline(steps=[('impute', SimpleImputer(strategy='median')),\n",
       "                ('classifier', GaussianNB())])"
      ]
     },
     "execution_count": 9,
     "metadata": {},
     "output_type": "execute_result"
    }
   ],
   "source": [
    "with open(\"/kaggle/input/kaggle-psp-training-q15-9-gaussiannb/q15_9_gaussiannb_pipeline.pkl\", \"rb\") as f:\n",
    "    model_q15 = pickle.load(f)\n",
    "model_q15"
   ]
  },
  {
   "cell_type": "code",
   "execution_count": 10,
   "id": "e01962d4",
   "metadata": {
    "execution": {
     "iopub.execute_input": "2023-05-14T22:56:36.615602Z",
     "iopub.status.busy": "2023-05-14T22:56:36.614781Z",
     "iopub.status.idle": "2023-05-14T22:56:36.631688Z",
     "shell.execute_reply": "2023-05-14T22:56:36.630633Z"
    },
    "papermill": {
     "duration": 0.027885,
     "end_time": "2023-05-14T22:56:36.634298",
     "exception": false,
     "start_time": "2023-05-14T22:56:36.606413",
     "status": "completed"
    },
    "tags": []
   },
   "outputs": [],
   "source": [
    "mappings = {}  # Mapping category -> integer\n",
    "for c in CATEGORIES:\n",
    "    with open(f\"/kaggle/input/kaggle-psp-features/mapping_{c}.json\", \"r\") as f:\n",
    "        mappings[c] = json.load(f)"
   ]
  },
  {
   "cell_type": "code",
   "execution_count": 11,
   "id": "04ab1f86",
   "metadata": {
    "execution": {
     "iopub.execute_input": "2023-05-14T22:56:36.650461Z",
     "iopub.status.busy": "2023-05-14T22:56:36.649666Z",
     "iopub.status.idle": "2023-05-14T22:56:36.688311Z",
     "shell.execute_reply": "2023-05-14T22:56:36.687139Z"
    },
    "papermill": {
     "duration": 0.049529,
     "end_time": "2023-05-14T22:56:36.690862",
     "exception": false,
     "start_time": "2023-05-14T22:56:36.641333",
     "status": "completed"
    },
    "tags": []
   },
   "outputs": [],
   "source": [
    "# Initialize feature engineering utilities\n",
    "flag_count_fullscreen = FlagCountFeatureGenerator(col=\"fullscreen\")\n",
    "flag_count_hq = FlagCountFeatureGenerator(col=\"hq\")\n",
    "flag_count_music = FlagCountFeatureGenerator(col=\"music\")\n",
    "\n",
    "levels_and_room_fqids_and_event_names = pd.read_csv(\"/kaggle/input/kaggle-psp-features/resource_levels_and_room_fqids_and_event_names.csv\")\n",
    "log_count_event_name = LogCountFeatureGenerator(\n",
    "    levels=levels_and_room_fqids_and_event_names[\"level\"].tolist(),\n",
    "    room_fqids=levels_and_room_fqids_and_event_names[\"room_fqid\"].tolist(),\n",
    "    categories=levels_and_room_fqids_and_event_names[\"event_name\"].tolist(),\n",
    "    col=\"event_name\"\n",
    ")\n",
    "levels_and_room_fqids_and_text_fqids = pd.read_csv(\"/kaggle/input/kaggle-psp-features/resource_levels_and_room_fqids_and_text_fqids.csv\")\n",
    "log_count_text_fqid = LogCountFeatureGenerator(\n",
    "    levels=levels_and_room_fqids_and_text_fqids[\"level\"].tolist(),\n",
    "    room_fqids=levels_and_room_fqids_and_text_fqids[\"room_fqid\"].tolist(),\n",
    "    categories=levels_and_room_fqids_and_text_fqids[\"text_fqid\"].tolist(),\n",
    "    col=\"text_fqid\"\n",
    ")\n",
    "\n",
    "room_movement = RoomMovementCountFeatureGenerator()\n",
    "\n",
    "elapsed_time = ElapsedTimeFeatureGenerator()\n",
    "time_diff = TimeDiffFeatureGenerator()"
   ]
  },
  {
   "cell_type": "code",
   "execution_count": 12,
   "id": "8d7a6c6a",
   "metadata": {
    "execution": {
     "iopub.execute_input": "2023-05-14T22:56:36.706959Z",
     "iopub.status.busy": "2023-05-14T22:56:36.706162Z",
     "iopub.status.idle": "2023-05-14T22:56:36.711263Z",
     "shell.execute_reply": "2023-05-14T22:56:36.710226Z"
    },
    "papermill": {
     "duration": 0.01603,
     "end_time": "2023-05-14T22:56:36.713799",
     "exception": false,
     "start_time": "2023-05-14T22:56:36.697769",
     "status": "completed"
    },
    "tags": []
   },
   "outputs": [],
   "source": [
    "env = jo_wilder.make_env()\n",
    "iter_test = env.iter_test()"
   ]
  },
  {
   "cell_type": "code",
   "execution_count": 13,
   "id": "f4d18640",
   "metadata": {
    "execution": {
     "iopub.execute_input": "2023-05-14T22:56:36.730603Z",
     "iopub.status.busy": "2023-05-14T22:56:36.729734Z",
     "iopub.status.idle": "2023-05-14T22:56:37.515955Z",
     "shell.execute_reply": "2023-05-14T22:56:37.514940Z"
    },
    "papermill": {
     "duration": 0.798369,
     "end_time": "2023-05-14T22:56:37.519623",
     "exception": false,
     "start_time": "2023-05-14T22:56:36.721254",
     "status": "completed"
    },
    "tags": []
   },
   "outputs": [
    {
     "name": "stdout",
     "output_type": "stream",
     "text": [
      "This version of the API is not optimized and should not be used to estimate the runtime of your code on the hidden test set.\n"
     ]
    }
   ],
   "source": [
    "for two_dataframes in iter_test:\n",
    "\n",
    "    sample_submission, test = order_dataframes(two_dataframes)\n",
    "    sample_submission[\"question\"] = get_q_from(sample_submission[\"session_id\"])\n",
    "\n",
    "    sample_submission = get_default_submission(sample_submission)\n",
    "\n",
    "#     env.predict(sample_submission[[\"session_id\", \"correct\"]])\n",
    "#     continue\n",
    "\n",
    "    # Preprocess\n",
    "    test[\"room_fqid\"] = test[\"room_fqid\"].map(mappings[\"room_fqid\"]).fillna(-1)\n",
    "    test[\"event_name\"] = test[\"event_name\"].map(mappings[\"event_name\"]).fillna(-1)\n",
    "    test[\"text_fqid\"] = test[\"text_fqid\"].map(mappings[\"text_fqid\"]).fillna(mappings[\"text_fqid\"][\"NaN\"])\n",
    "\n",
    "    # Upsert feature engineering utility's db with given batch\n",
    "    flag_count_fullscreen.upsert(test)\n",
    "    flag_count_hq.upsert(test)\n",
    "    flag_count_music.upsert(test)\n",
    "    log_count_event_name.upsert(test)\n",
    "    log_count_text_fqid.upsert(test)\n",
    "    room_movement.upsert(test)\n",
    "    elapsed_time.upsert(test)\n",
    "    time_diff.upsert(test)\n",
    "\n",
    "    # Extract feature\n",
    "    first_row = test.iloc[0]\n",
    "    session_id = first_row[\"session_id\"]\n",
    "    level_group = first_row[\"level_group\"]\n",
    "    X = {}\n",
    "    for level in get_available_levels_from(level_group):\n",
    "        X.update(flag_count_fullscreen.query(session_id, level))\n",
    "        X.update(flag_count_hq.query(session_id, level))\n",
    "        X.update(flag_count_music.query(session_id, level))\n",
    "        X.update(log_count_event_name.query(session_id, level))\n",
    "        X.update(log_count_text_fqid.query(session_id, level))\n",
    "        X.update(room_movement.query(session_id, level))\n",
    "        X.update(elapsed_time.query(session_id, level))\n",
    "        X.update(time_diff.query(session_id, level))\n",
    "    X = pd.DataFrame(X, index=[0])\n",
    "\n",
    "    # Prediction\n",
    "    questions = sample_submission[\"question\"].unique()\n",
    "\n",
    "#     if \"q13\" in sample_submission[\"question\"].to_numpy():\n",
    "#         prediction_q13 = model_q13.predict(X[model_q13.feature_names_in_])\n",
    "#         sample_submission.loc[sample_submission.question == 'q13', 'correct'] = prediction_q13[0]\n",
    "\n",
    "    # - q15\n",
    "    if \"q15\" in questions:\n",
    "        prediction_q15 = model_q15.predict(X[model_q15.feature_names_in_])\n",
    "        sample_submission.loc[sample_submission.question == 'q15', 'correct'] = prediction_q15[0]\n",
    "        \n",
    "\n",
    "    env.predict(sample_submission[[\"session_id\", \"correct\"]])"
   ]
  },
  {
   "cell_type": "code",
   "execution_count": 14,
   "id": "9be88dbc",
   "metadata": {
    "execution": {
     "iopub.execute_input": "2023-05-14T22:56:37.543543Z",
     "iopub.status.busy": "2023-05-14T22:56:37.541878Z",
     "iopub.status.idle": "2023-05-14T22:56:37.563750Z",
     "shell.execute_reply": "2023-05-14T22:56:37.562942Z"
    },
    "papermill": {
     "duration": 0.0324,
     "end_time": "2023-05-14T22:56:37.565887",
     "exception": false,
     "start_time": "2023-05-14T22:56:37.533487",
     "status": "completed"
    },
    "tags": []
   },
   "outputs": [
    {
     "data": {
      "text/html": [
       "<div>\n",
       "<style scoped>\n",
       "    .dataframe tbody tr th:only-of-type {\n",
       "        vertical-align: middle;\n",
       "    }\n",
       "\n",
       "    .dataframe tbody tr th {\n",
       "        vertical-align: top;\n",
       "    }\n",
       "\n",
       "    .dataframe thead th {\n",
       "        text-align: right;\n",
       "    }\n",
       "</style>\n",
       "<table border=\"1\" class=\"dataframe\">\n",
       "  <thead>\n",
       "    <tr style=\"text-align: right;\">\n",
       "      <th></th>\n",
       "      <th>session_id</th>\n",
       "      <th>correct</th>\n",
       "      <th>question</th>\n",
       "    </tr>\n",
       "  </thead>\n",
       "  <tbody>\n",
       "    <tr>\n",
       "      <th>0</th>\n",
       "      <td>20090312331414616_q14</td>\n",
       "      <td>1</td>\n",
       "      <td>q14</td>\n",
       "    </tr>\n",
       "    <tr>\n",
       "      <th>1</th>\n",
       "      <td>20090312331414616_q15</td>\n",
       "      <td>1</td>\n",
       "      <td>q15</td>\n",
       "    </tr>\n",
       "    <tr>\n",
       "      <th>2</th>\n",
       "      <td>20090312331414616_q16</td>\n",
       "      <td>1</td>\n",
       "      <td>q16</td>\n",
       "    </tr>\n",
       "    <tr>\n",
       "      <th>3</th>\n",
       "      <td>20090312331414616_q17</td>\n",
       "      <td>1</td>\n",
       "      <td>q17</td>\n",
       "    </tr>\n",
       "    <tr>\n",
       "      <th>4</th>\n",
       "      <td>20090312331414616_q18</td>\n",
       "      <td>1</td>\n",
       "      <td>q18</td>\n",
       "    </tr>\n",
       "  </tbody>\n",
       "</table>\n",
       "</div>"
      ],
      "text/plain": [
       "              session_id  correct question\n",
       "0  20090312331414616_q14        1      q14\n",
       "1  20090312331414616_q15        1      q15\n",
       "2  20090312331414616_q16        1      q16\n",
       "3  20090312331414616_q17        1      q17\n",
       "4  20090312331414616_q18        1      q18"
      ]
     },
     "execution_count": 14,
     "metadata": {},
     "output_type": "execute_result"
    }
   ],
   "source": [
    "sample_submission"
   ]
  },
  {
   "cell_type": "code",
   "execution_count": 15,
   "id": "b52c77db",
   "metadata": {
    "execution": {
     "iopub.execute_input": "2023-05-14T22:56:37.582310Z",
     "iopub.status.busy": "2023-05-14T22:56:37.581299Z",
     "iopub.status.idle": "2023-05-14T22:56:37.619730Z",
     "shell.execute_reply": "2023-05-14T22:56:37.618952Z"
    },
    "papermill": {
     "duration": 0.048826,
     "end_time": "2023-05-14T22:56:37.621844",
     "exception": false,
     "start_time": "2023-05-14T22:56:37.573018",
     "status": "completed"
    },
    "tags": []
   },
   "outputs": [
    {
     "data": {
      "text/html": [
       "<div>\n",
       "<style scoped>\n",
       "    .dataframe tbody tr th:only-of-type {\n",
       "        vertical-align: middle;\n",
       "    }\n",
       "\n",
       "    .dataframe tbody tr th {\n",
       "        vertical-align: top;\n",
       "    }\n",
       "\n",
       "    .dataframe thead th {\n",
       "        text-align: right;\n",
       "    }\n",
       "</style>\n",
       "<table border=\"1\" class=\"dataframe\">\n",
       "  <thead>\n",
       "    <tr style=\"text-align: right;\">\n",
       "      <th></th>\n",
       "      <th>session_id</th>\n",
       "      <th>index</th>\n",
       "      <th>elapsed_time</th>\n",
       "      <th>event_name</th>\n",
       "      <th>name</th>\n",
       "      <th>level</th>\n",
       "      <th>page</th>\n",
       "      <th>room_coor_x</th>\n",
       "      <th>room_coor_y</th>\n",
       "      <th>screen_coor_x</th>\n",
       "      <th>screen_coor_y</th>\n",
       "      <th>hover_duration</th>\n",
       "      <th>text</th>\n",
       "      <th>fqid</th>\n",
       "      <th>room_fqid</th>\n",
       "      <th>text_fqid</th>\n",
       "      <th>fullscreen</th>\n",
       "      <th>hq</th>\n",
       "      <th>music</th>\n",
       "      <th>level_group</th>\n",
       "    </tr>\n",
       "  </thead>\n",
       "  <tbody>\n",
       "    <tr>\n",
       "      <th>0</th>\n",
       "      <td>20090312331414616</td>\n",
       "      <td>489</td>\n",
       "      <td>928004</td>\n",
       "      <td>2</td>\n",
       "      <td>undefined</td>\n",
       "      <td>13</td>\n",
       "      <td>NaN</td>\n",
       "      <td>297.729307</td>\n",
       "      <td>-260.559972</td>\n",
       "      <td>656.0</td>\n",
       "      <td>482.0</td>\n",
       "      <td>NaN</td>\n",
       "      <td>NaN</td>\n",
       "      <td>NaN</td>\n",
       "      <td>13</td>\n",
       "      <td>82.0</td>\n",
       "      <td>0.0</td>\n",
       "      <td>0.0</td>\n",
       "      <td>1.0</td>\n",
       "      <td>13-22</td>\n",
       "    </tr>\n",
       "    <tr>\n",
       "      <th>1</th>\n",
       "      <td>20090312331414616</td>\n",
       "      <td>490</td>\n",
       "      <td>928836</td>\n",
       "      <td>2</td>\n",
       "      <td>undefined</td>\n",
       "      <td>13</td>\n",
       "      <td>NaN</td>\n",
       "      <td>459.877554</td>\n",
       "      <td>-262.914382</td>\n",
       "      <td>716.0</td>\n",
       "      <td>474.0</td>\n",
       "      <td>NaN</td>\n",
       "      <td>NaN</td>\n",
       "      <td>NaN</td>\n",
       "      <td>13</td>\n",
       "      <td>82.0</td>\n",
       "      <td>0.0</td>\n",
       "      <td>0.0</td>\n",
       "      <td>1.0</td>\n",
       "      <td>13-22</td>\n",
       "    </tr>\n",
       "    <tr>\n",
       "      <th>2</th>\n",
       "      <td>20090312331414616</td>\n",
       "      <td>491</td>\n",
       "      <td>929968</td>\n",
       "      <td>2</td>\n",
       "      <td>undefined</td>\n",
       "      <td>13</td>\n",
       "      <td>NaN</td>\n",
       "      <td>622.914322</td>\n",
       "      <td>-354.953570</td>\n",
       "      <td>731.0</td>\n",
       "      <td>531.0</td>\n",
       "      <td>NaN</td>\n",
       "      <td>NaN</td>\n",
       "      <td>NaN</td>\n",
       "      <td>13</td>\n",
       "      <td>82.0</td>\n",
       "      <td>0.0</td>\n",
       "      <td>0.0</td>\n",
       "      <td>1.0</td>\n",
       "      <td>13-22</td>\n",
       "    </tr>\n",
       "    <tr>\n",
       "      <th>3</th>\n",
       "      <td>20090312331414616</td>\n",
       "      <td>492</td>\n",
       "      <td>930868</td>\n",
       "      <td>2</td>\n",
       "      <td>undefined</td>\n",
       "      <td>13</td>\n",
       "      <td>NaN</td>\n",
       "      <td>779.643974</td>\n",
       "      <td>-258.638647</td>\n",
       "      <td>791.0</td>\n",
       "      <td>462.0</td>\n",
       "      <td>NaN</td>\n",
       "      <td>NaN</td>\n",
       "      <td>toentry</td>\n",
       "      <td>13</td>\n",
       "      <td>82.0</td>\n",
       "      <td>0.0</td>\n",
       "      <td>0.0</td>\n",
       "      <td>1.0</td>\n",
       "      <td>13-22</td>\n",
       "    </tr>\n",
       "    <tr>\n",
       "      <th>4</th>\n",
       "      <td>20090312331414616</td>\n",
       "      <td>493</td>\n",
       "      <td>931750</td>\n",
       "      <td>8</td>\n",
       "      <td>basic</td>\n",
       "      <td>13</td>\n",
       "      <td>NaN</td>\n",
       "      <td>777.372366</td>\n",
       "      <td>-42.768409</td>\n",
       "      <td>773.0</td>\n",
       "      <td>331.0</td>\n",
       "      <td>NaN</td>\n",
       "      <td>NaN</td>\n",
       "      <td>NaN</td>\n",
       "      <td>13</td>\n",
       "      <td>82.0</td>\n",
       "      <td>0.0</td>\n",
       "      <td>0.0</td>\n",
       "      <td>1.0</td>\n",
       "      <td>13-22</td>\n",
       "    </tr>\n",
       "    <tr>\n",
       "      <th>...</th>\n",
       "      <td>...</td>\n",
       "      <td>...</td>\n",
       "      <td>...</td>\n",
       "      <td>...</td>\n",
       "      <td>...</td>\n",
       "      <td>...</td>\n",
       "      <td>...</td>\n",
       "      <td>...</td>\n",
       "      <td>...</td>\n",
       "      <td>...</td>\n",
       "      <td>...</td>\n",
       "      <td>...</td>\n",
       "      <td>...</td>\n",
       "      <td>...</td>\n",
       "      <td>...</td>\n",
       "      <td>...</td>\n",
       "      <td>...</td>\n",
       "      <td>...</td>\n",
       "      <td>...</td>\n",
       "      <td>...</td>\n",
       "    </tr>\n",
       "    <tr>\n",
       "      <th>512</th>\n",
       "      <td>20090312331414616</td>\n",
       "      <td>1001</td>\n",
       "      <td>1581679</td>\n",
       "      <td>7</td>\n",
       "      <td>basic</td>\n",
       "      <td>22</td>\n",
       "      <td>NaN</td>\n",
       "      <td>NaN</td>\n",
       "      <td>NaN</td>\n",
       "      <td>NaN</td>\n",
       "      <td>NaN</td>\n",
       "      <td>484.0</td>\n",
       "      <td>NaN</td>\n",
       "      <td>tunic.wildlife</td>\n",
       "      <td>2</td>\n",
       "      <td>82.0</td>\n",
       "      <td>0.0</td>\n",
       "      <td>0.0</td>\n",
       "      <td>1.0</td>\n",
       "      <td>13-22</td>\n",
       "    </tr>\n",
       "    <tr>\n",
       "      <th>513</th>\n",
       "      <td>20090312331414616</td>\n",
       "      <td>1002</td>\n",
       "      <td>1583044</td>\n",
       "      <td>7</td>\n",
       "      <td>basic</td>\n",
       "      <td>22</td>\n",
       "      <td>NaN</td>\n",
       "      <td>NaN</td>\n",
       "      <td>NaN</td>\n",
       "      <td>NaN</td>\n",
       "      <td>NaN</td>\n",
       "      <td>783.0</td>\n",
       "      <td>NaN</td>\n",
       "      <td>tunic.capitol_2</td>\n",
       "      <td>2</td>\n",
       "      <td>82.0</td>\n",
       "      <td>0.0</td>\n",
       "      <td>0.0</td>\n",
       "      <td>1.0</td>\n",
       "      <td>13-22</td>\n",
       "    </tr>\n",
       "    <tr>\n",
       "      <th>514</th>\n",
       "      <td>20090312331414616</td>\n",
       "      <td>1003</td>\n",
       "      <td>1583410</td>\n",
       "      <td>8</td>\n",
       "      <td>undefined</td>\n",
       "      <td>22</td>\n",
       "      <td>NaN</td>\n",
       "      <td>483.726363</td>\n",
       "      <td>-3.880047</td>\n",
       "      <td>456.0</td>\n",
       "      <td>332.0</td>\n",
       "      <td>NaN</td>\n",
       "      <td>NaN</td>\n",
       "      <td>tunic.capitol_2</td>\n",
       "      <td>2</td>\n",
       "      <td>82.0</td>\n",
       "      <td>0.0</td>\n",
       "      <td>0.0</td>\n",
       "      <td>1.0</td>\n",
       "      <td>13-22</td>\n",
       "    </tr>\n",
       "    <tr>\n",
       "      <th>515</th>\n",
       "      <td>20090312331414616</td>\n",
       "      <td>1004</td>\n",
       "      <td>1585841</td>\n",
       "      <td>2</td>\n",
       "      <td>undefined</td>\n",
       "      <td>22</td>\n",
       "      <td>NaN</td>\n",
       "      <td>192.372139</td>\n",
       "      <td>38.216178</td>\n",
       "      <td>383.0</td>\n",
       "      <td>272.0</td>\n",
       "      <td>NaN</td>\n",
       "      <td>NaN</td>\n",
       "      <td>chap4_finale_c</td>\n",
       "      <td>18</td>\n",
       "      <td>82.0</td>\n",
       "      <td>0.0</td>\n",
       "      <td>0.0</td>\n",
       "      <td>1.0</td>\n",
       "      <td>13-22</td>\n",
       "    </tr>\n",
       "    <tr>\n",
       "      <th>516</th>\n",
       "      <td>20090312331414616</td>\n",
       "      <td>1005</td>\n",
       "      <td>1587810</td>\n",
       "      <td>9</td>\n",
       "      <td>basic</td>\n",
       "      <td>22</td>\n",
       "      <td>NaN</td>\n",
       "      <td>NaN</td>\n",
       "      <td>NaN</td>\n",
       "      <td>NaN</td>\n",
       "      <td>NaN</td>\n",
       "      <td>NaN</td>\n",
       "      <td>NaN</td>\n",
       "      <td>chap4_finale_c</td>\n",
       "      <td>18</td>\n",
       "      <td>82.0</td>\n",
       "      <td>0.0</td>\n",
       "      <td>0.0</td>\n",
       "      <td>1.0</td>\n",
       "      <td>13-22</td>\n",
       "    </tr>\n",
       "  </tbody>\n",
       "</table>\n",
       "<p>517 rows × 20 columns</p>\n",
       "</div>"
      ],
      "text/plain": [
       "            session_id  index  elapsed_time  event_name       name  level  \\\n",
       "0    20090312331414616    489        928004           2  undefined     13   \n",
       "1    20090312331414616    490        928836           2  undefined     13   \n",
       "2    20090312331414616    491        929968           2  undefined     13   \n",
       "3    20090312331414616    492        930868           2  undefined     13   \n",
       "4    20090312331414616    493        931750           8      basic     13   \n",
       "..                 ...    ...           ...         ...        ...    ...   \n",
       "512  20090312331414616   1001       1581679           7      basic     22   \n",
       "513  20090312331414616   1002       1583044           7      basic     22   \n",
       "514  20090312331414616   1003       1583410           8  undefined     22   \n",
       "515  20090312331414616   1004       1585841           2  undefined     22   \n",
       "516  20090312331414616   1005       1587810           9      basic     22   \n",
       "\n",
       "     page  room_coor_x  room_coor_y  screen_coor_x  screen_coor_y  \\\n",
       "0     NaN   297.729307  -260.559972          656.0          482.0   \n",
       "1     NaN   459.877554  -262.914382          716.0          474.0   \n",
       "2     NaN   622.914322  -354.953570          731.0          531.0   \n",
       "3     NaN   779.643974  -258.638647          791.0          462.0   \n",
       "4     NaN   777.372366   -42.768409          773.0          331.0   \n",
       "..    ...          ...          ...            ...            ...   \n",
       "512   NaN          NaN          NaN            NaN            NaN   \n",
       "513   NaN          NaN          NaN            NaN            NaN   \n",
       "514   NaN   483.726363    -3.880047          456.0          332.0   \n",
       "515   NaN   192.372139    38.216178          383.0          272.0   \n",
       "516   NaN          NaN          NaN            NaN            NaN   \n",
       "\n",
       "     hover_duration text             fqid  room_fqid  text_fqid  fullscreen  \\\n",
       "0               NaN  NaN              NaN         13       82.0         0.0   \n",
       "1               NaN  NaN              NaN         13       82.0         0.0   \n",
       "2               NaN  NaN              NaN         13       82.0         0.0   \n",
       "3               NaN  NaN          toentry         13       82.0         0.0   \n",
       "4               NaN  NaN              NaN         13       82.0         0.0   \n",
       "..              ...  ...              ...        ...        ...         ...   \n",
       "512           484.0  NaN   tunic.wildlife          2       82.0         0.0   \n",
       "513           783.0  NaN  tunic.capitol_2          2       82.0         0.0   \n",
       "514             NaN  NaN  tunic.capitol_2          2       82.0         0.0   \n",
       "515             NaN  NaN   chap4_finale_c         18       82.0         0.0   \n",
       "516             NaN  NaN   chap4_finale_c         18       82.0         0.0   \n",
       "\n",
       "      hq  music level_group  \n",
       "0    0.0    1.0       13-22  \n",
       "1    0.0    1.0       13-22  \n",
       "2    0.0    1.0       13-22  \n",
       "3    0.0    1.0       13-22  \n",
       "4    0.0    1.0       13-22  \n",
       "..   ...    ...         ...  \n",
       "512  0.0    1.0       13-22  \n",
       "513  0.0    1.0       13-22  \n",
       "514  0.0    1.0       13-22  \n",
       "515  0.0    1.0       13-22  \n",
       "516  0.0    1.0       13-22  \n",
       "\n",
       "[517 rows x 20 columns]"
      ]
     },
     "execution_count": 15,
     "metadata": {},
     "output_type": "execute_result"
    }
   ],
   "source": [
    "test"
   ]
  }
 ],
 "metadata": {
  "kernelspec": {
   "display_name": "Python 3",
   "language": "python",
   "name": "python3"
  },
  "language_info": {
   "codemirror_mode": {
    "name": "ipython",
    "version": 3
   },
   "file_extension": ".py",
   "mimetype": "text/x-python",
   "name": "python",
   "nbconvert_exporter": "python",
   "pygments_lexer": "ipython3",
   "version": "3.10.10"
  },
  "papermill": {
   "default_parameters": {},
   "duration": 20.842908,
   "end_time": "2023-05-14T22:56:38.752135",
   "environment_variables": {},
   "exception": null,
   "input_path": "__notebook__.ipynb",
   "output_path": "__notebook__.ipynb",
   "parameters": {},
   "start_time": "2023-05-14T22:56:17.909227",
   "version": "2.4.0"
  }
 },
 "nbformat": 4,
 "nbformat_minor": 5
}
