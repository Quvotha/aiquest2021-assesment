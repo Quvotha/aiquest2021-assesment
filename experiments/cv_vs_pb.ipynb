{
 "cells": [
  {
   "cell_type": "code",
   "execution_count": 2,
   "id": "db606987",
   "metadata": {},
   "outputs": [],
   "source": [
    "import glob\n",
    "import json\n",
    "import os\n",
    "\n",
    "import pandas as pd\n",
    "import matplotlib.pyplot as plt\n",
    "import seaborn as sns"
   ]
  },
  {
   "cell_type": "code",
   "execution_count": 13,
   "id": "a75da634",
   "metadata": {},
   "outputs": [
    {
     "data": {
      "text/html": [
       "<div>\n",
       "<style scoped>\n",
       "    .dataframe tbody tr th:only-of-type {\n",
       "        vertical-align: middle;\n",
       "    }\n",
       "\n",
       "    .dataframe tbody tr th {\n",
       "        vertical-align: top;\n",
       "    }\n",
       "\n",
       "    .dataframe thead th {\n",
       "        text-align: right;\n",
       "    }\n",
       "</style>\n",
       "<table border=\"1\" class=\"dataframe\">\n",
       "  <thead>\n",
       "    <tr style=\"text-align: right;\">\n",
       "      <th></th>\n",
       "      <th>experiment</th>\n",
       "      <th>rmse</th>\n",
       "    </tr>\n",
       "  </thead>\n",
       "  <tbody>\n",
       "    <tr>\n",
       "      <th>0</th>\n",
       "      <td>01-01</td>\n",
       "      <td>156.223821</td>\n",
       "    </tr>\n",
       "    <tr>\n",
       "      <th>1</th>\n",
       "      <td>01-02</td>\n",
       "      <td>156.223821</td>\n",
       "    </tr>\n",
       "  </tbody>\n",
       "</table>\n",
       "</div>"
      ],
      "text/plain": [
       "  experiment        rmse\n",
       "0      01-01  156.223821\n",
       "1      01-02  156.223821"
      ]
     },
     "execution_count": 13,
     "metadata": {},
     "output_type": "execute_result"
    }
   ],
   "source": [
    "pb = pd.read_csv('public_leaderboard.csv',header=None)\n",
    "pb.columns = ['experiment', 'rmse']\n",
    "pb"
   ]
  },
  {
   "cell_type": "code",
   "execution_count": 18,
   "id": "87b565c9",
   "metadata": {},
   "outputs": [
    {
     "data": {
      "text/html": [
       "<div>\n",
       "<style scoped>\n",
       "    .dataframe tbody tr th:only-of-type {\n",
       "        vertical-align: middle;\n",
       "    }\n",
       "\n",
       "    .dataframe tbody tr th {\n",
       "        vertical-align: top;\n",
       "    }\n",
       "\n",
       "    .dataframe thead th {\n",
       "        text-align: right;\n",
       "    }\n",
       "</style>\n",
       "<table border=\"1\" class=\"dataframe\">\n",
       "  <thead>\n",
       "    <tr style=\"text-align: right;\">\n",
       "      <th></th>\n",
       "      <th>experiment</th>\n",
       "      <th>valid_losses_avg</th>\n",
       "      <th>valid_losses_std</th>\n",
       "      <th>valid_loss</th>\n",
       "    </tr>\n",
       "  </thead>\n",
       "  <tbody>\n",
       "    <tr>\n",
       "      <th>0</th>\n",
       "      <td>01-01</td>\n",
       "      <td>108.884375</td>\n",
       "      <td>2.360160</td>\n",
       "      <td>199.964769</td>\n",
       "    </tr>\n",
       "    <tr>\n",
       "      <th>1</th>\n",
       "      <td>01-02</td>\n",
       "      <td>106.999095</td>\n",
       "      <td>3.006433</td>\n",
       "      <td>199.099051</td>\n",
       "    </tr>\n",
       "    <tr>\n",
       "      <th>2</th>\n",
       "      <td>01-03</td>\n",
       "      <td>122.039748</td>\n",
       "      <td>2.513364</td>\n",
       "      <td>203.720097</td>\n",
       "    </tr>\n",
       "  </tbody>\n",
       "</table>\n",
       "</div>"
      ],
      "text/plain": [
       "  experiment  valid_losses_avg  valid_losses_std  valid_loss\n",
       "0      01-01        108.884375          2.360160  199.964769\n",
       "1      01-02        106.999095          3.006433  199.099051\n",
       "2      01-03        122.039748          2.513364  203.720097"
      ]
     },
     "execution_count": 18,
     "metadata": {},
     "output_type": "execute_result"
    }
   ],
   "source": [
    "cv = []\n",
    "for filepath in glob.glob(os.path.join('*', 'metrics.json')):\n",
    "    experiment = os.path.split(filepath)[0]\n",
    "    with open(filepath, 'r') as f:\n",
    "        metrics = json.load(f)\n",
    "    cv.append([experiment, metrics['valid_losses_avg'], metrics['valid_losses_std'], metrics['valid_loss']])\n",
    "cv = pd.DataFrame(cv, columns=['experiment', 'valid_losses_avg', 'valid_losses_std', 'valid_loss'])\n",
    "cv"
   ]
  },
  {
   "cell_type": "code",
   "execution_count": 19,
   "id": "ccce220b",
   "metadata": {},
   "outputs": [
    {
     "data": {
      "text/html": [
       "<div>\n",
       "<style scoped>\n",
       "    .dataframe tbody tr th:only-of-type {\n",
       "        vertical-align: middle;\n",
       "    }\n",
       "\n",
       "    .dataframe tbody tr th {\n",
       "        vertical-align: top;\n",
       "    }\n",
       "\n",
       "    .dataframe thead th {\n",
       "        text-align: right;\n",
       "    }\n",
       "</style>\n",
       "<table border=\"1\" class=\"dataframe\">\n",
       "  <thead>\n",
       "    <tr style=\"text-align: right;\">\n",
       "      <th></th>\n",
       "      <th>experiment</th>\n",
       "      <th>valid_losses_avg</th>\n",
       "      <th>valid_losses_std</th>\n",
       "      <th>valid_loss</th>\n",
       "      <th>rmse</th>\n",
       "    </tr>\n",
       "  </thead>\n",
       "  <tbody>\n",
       "    <tr>\n",
       "      <th>0</th>\n",
       "      <td>01-01</td>\n",
       "      <td>108.884375</td>\n",
       "      <td>2.360160</td>\n",
       "      <td>199.964769</td>\n",
       "      <td>156.223821</td>\n",
       "    </tr>\n",
       "    <tr>\n",
       "      <th>1</th>\n",
       "      <td>01-02</td>\n",
       "      <td>106.999095</td>\n",
       "      <td>3.006433</td>\n",
       "      <td>199.099051</td>\n",
       "      <td>156.223821</td>\n",
       "    </tr>\n",
       "    <tr>\n",
       "      <th>2</th>\n",
       "      <td>01-03</td>\n",
       "      <td>122.039748</td>\n",
       "      <td>2.513364</td>\n",
       "      <td>203.720097</td>\n",
       "      <td>NaN</td>\n",
       "    </tr>\n",
       "  </tbody>\n",
       "</table>\n",
       "</div>"
      ],
      "text/plain": [
       "  experiment  valid_losses_avg  valid_losses_std  valid_loss        rmse\n",
       "0      01-01        108.884375          2.360160  199.964769  156.223821\n",
       "1      01-02        106.999095          3.006433  199.099051  156.223821\n",
       "2      01-03        122.039748          2.513364  203.720097         NaN"
      ]
     },
     "execution_count": 19,
     "metadata": {},
     "output_type": "execute_result"
    }
   ],
   "source": [
    "cv_pb = pd.merge(cv, pb, how='left')\n",
    "cv_pb"
   ]
  },
  {
   "cell_type": "code",
   "execution_count": 20,
   "id": "b5cd370d",
   "metadata": {},
   "outputs": [
    {
     "data": {
      "text/html": [
       "<div>\n",
       "<style scoped>\n",
       "    .dataframe tbody tr th:only-of-type {\n",
       "        vertical-align: middle;\n",
       "    }\n",
       "\n",
       "    .dataframe tbody tr th {\n",
       "        vertical-align: top;\n",
       "    }\n",
       "\n",
       "    .dataframe thead th {\n",
       "        text-align: right;\n",
       "    }\n",
       "</style>\n",
       "<table border=\"1\" class=\"dataframe\">\n",
       "  <thead>\n",
       "    <tr style=\"text-align: right;\">\n",
       "      <th></th>\n",
       "      <th>valid_losses_avg</th>\n",
       "      <th>valid_losses_std</th>\n",
       "      <th>valid_loss</th>\n",
       "      <th>rmse</th>\n",
       "    </tr>\n",
       "  </thead>\n",
       "  <tbody>\n",
       "    <tr>\n",
       "      <th>valid_losses_avg</th>\n",
       "      <td>1.000000</td>\n",
       "      <td>-0.398674</td>\n",
       "      <td>0.998089</td>\n",
       "      <td>NaN</td>\n",
       "    </tr>\n",
       "    <tr>\n",
       "      <th>valid_losses_std</th>\n",
       "      <td>-0.398674</td>\n",
       "      <td>1.000000</td>\n",
       "      <td>-0.454588</td>\n",
       "      <td>NaN</td>\n",
       "    </tr>\n",
       "    <tr>\n",
       "      <th>valid_loss</th>\n",
       "      <td>0.998089</td>\n",
       "      <td>-0.454588</td>\n",
       "      <td>1.000000</td>\n",
       "      <td>NaN</td>\n",
       "    </tr>\n",
       "    <tr>\n",
       "      <th>rmse</th>\n",
       "      <td>NaN</td>\n",
       "      <td>NaN</td>\n",
       "      <td>NaN</td>\n",
       "      <td>NaN</td>\n",
       "    </tr>\n",
       "  </tbody>\n",
       "</table>\n",
       "</div>"
      ],
      "text/plain": [
       "                  valid_losses_avg  valid_losses_std  valid_loss  rmse\n",
       "valid_losses_avg          1.000000         -0.398674    0.998089   NaN\n",
       "valid_losses_std         -0.398674          1.000000   -0.454588   NaN\n",
       "valid_loss                0.998089         -0.454588    1.000000   NaN\n",
       "rmse                           NaN               NaN         NaN   NaN"
      ]
     },
     "execution_count": 20,
     "metadata": {},
     "output_type": "execute_result"
    },
    {
     "data": {
      "text/plain": [
       "<Figure size 648x648 with 0 Axes>"
      ]
     },
     "metadata": {},
     "output_type": "display_data"
    },
    {
     "data": {
      "image/png": "[encoded data removed]",
      "text/plain": [
       "<Figure size 720x720 with 14 Axes>"
      ]
     },
     "metadata": {
      "needs_background": "light"
     },
     "output_type": "display_data"
    }
   ],
   "source": [
    "plt.figure(figsize=(9, 9))\n",
    "sns.pairplot(cv_pb, corner=True)\n",
    "cv_pb.corr()"
   ]
  },
  {
   "cell_type": "code",
   "execution_count": null,
   "id": "002554b8",
   "metadata": {},
   "outputs": [],
   "source": []
  }
 ],
 "metadata": {
  "kernelspec": {
   "display_name": "Python 3",
   "language": "python",
   "name": "python3"
  },
  "language_info": {
   "codemirror_mode": {
    "name": "ipython",
    "version": 3
   },
   "file_extension": ".py",
   "mimetype": "text/x-python",
   "name": "python",
   "nbconvert_exporter": "python",
   "pygments_lexer": "ipython3",
   "version": "3.7.0"
  }
 },
 "nbformat": 4,
 "nbformat_minor": 5
}
