{
 "cells": [
  {
   "cell_type": "code",
   "execution_count": null,
   "id": "c81000a4",
   "metadata": {
    "execution": {
     "iopub.execute_input": "2021-08-07T13:53:43.927961Z",
     "iopub.status.busy": "2021-08-07T13:53:43.926948Z",
     "iopub.status.idle": "2021-08-07T13:53:43.932420Z",
     "shell.execute_reply": "2021-08-07T13:53:43.932420Z"
    }
   },
   "outputs": [],
   "source": [
    "EXPERIMENT = '05-05'\n",
    "N_SPLITS = 5\n",
    "SEED = 1\n",
    "CLIP_UPPER_RATE = 1.5\n",
    "CLIP_LOWER_RATE = 1.0\n",
    "Y_THRESHOLD = 200"
   ]
  },
  {
   "cell_type": "code",
   "execution_count": null,
   "id": "040bdeb3",
   "metadata": {
    "execution": {
     "iopub.execute_input": "2021-08-07T13:53:43.941419Z",
     "iopub.status.busy": "2021-08-07T13:53:43.934423Z",
     "iopub.status.idle": "2021-08-07T13:53:48.593982Z",
     "shell.execute_reply": "2021-08-07T13:53:48.593982Z"
    }
   },
   "outputs": [],
   "source": [
    "from collections import defaultdict\n",
    "import configparser\n",
    "from functools import partial\n",
    "from itertools import chain\n",
    "import json\n",
    "import logging\n",
    "import os\n",
    "import pickle\n",
    "import re\n",
    "import sys\n",
    "import time\n",
    "\n",
    "SINCE = time.time()\n",
    "\n",
    "from lightgbm import LGBMRegressor\n",
    "import matplotlib.pyplot as plt\n",
    "import numpy as np\n",
    "import pandas as pd\n",
    "import seaborn as sns\n",
    "from sklearn.compose import ColumnTransformer\n",
    "from sklearn.decomposition import PCA\n",
    "from sklearn.impute import SimpleImputer\n",
    "from sklearn.metrics import mean_squared_error as mse, f1_score, precision_score, recall_score\n",
    "from sklearn.model_selection import StratifiedKFold\n",
    "from sklearn.naive_bayes import ComplementNB\n",
    "from sklearn.pipeline import Pipeline\n",
    "from sklearn.preprocessing import OneHotEncoder, MinMaxScaler\n",
    "from sklearnex import patch_sklearn\n",
    "\n",
    "config = configparser.ConfigParser()\n",
    "INI_FILEPATH = os.path.join(os.path.expanduser('~'), 'aiquest2021-assesment', 'config.ini')\n",
    "config.read(INI_FILEPATH)\n",
    "if config['FOLDER']['SCRIPTS'] not in sys.path:\n",
    "    sys.path.append(config['FOLDER']['SCRIPTS'])\n",
    "from logging_util import get_logger, timer\n",
    "from feature_engineering import make_or_load_features\n",
    "from text_feature_extraction import make_or_load_vector"
   ]
  },
  {
   "cell_type": "code",
   "execution_count": null,
   "id": "9a2efaa9",
   "metadata": {},
   "outputs": [],
   "source": [
    "patch_sklearn()"
   ]
  },
  {
   "cell_type": "code",
   "execution_count": null,
   "id": "20ccfe1a",
   "metadata": {
    "execution": {
     "iopub.execute_input": "2021-08-07T13:53:48.598982Z",
     "iopub.status.busy": "2021-08-07T13:53:48.597999Z",
     "iopub.status.idle": "2021-08-07T13:53:48.608983Z",
     "shell.execute_reply": "2021-08-07T13:53:48.609982Z"
    }
   },
   "outputs": [],
   "source": [
    "output_dir = os.path.join(config['FOLDER']['EXPERIMENTS'], EXPERIMENT)\n",
    "os.makedirs(output_dir)"
   ]
  },
  {
   "cell_type": "code",
   "execution_count": null,
   "id": "bbd1f29f",
   "metadata": {
    "execution": {
     "iopub.execute_input": "2021-08-07T13:53:48.613983Z",
     "iopub.status.busy": "2021-08-07T13:53:48.612982Z",
     "iopub.status.idle": "2021-08-07T13:53:48.626984Z",
     "shell.execute_reply": "2021-08-07T13:53:48.625987Z"
    }
   },
   "outputs": [],
   "source": [
    "logger = get_logger(__name__, os.path.join(output_dir, 'log.log'))"
   ]
  },
  {
   "cell_type": "markdown",
   "id": "94d7074a",
   "metadata": {},
   "source": [
    "# Loading"
   ]
  },
  {
   "cell_type": "code",
   "execution_count": null,
   "id": "04f33420",
   "metadata": {
    "execution": {
     "iopub.execute_input": "2021-08-07T13:53:48.633990Z",
     "iopub.status.busy": "2021-08-07T13:53:48.633990Z",
     "iopub.status.idle": "2021-08-07T13:53:50.748461Z",
     "shell.execute_reply": "2021-08-07T13:53:50.749456Z"
    }
   },
   "outputs": [],
   "source": [
    "with timer('Load dataset', logger):\n",
    "    train = pd.read_csv(os.path.join(config['FOLDER']['INPUT'], 'train.csv'))\n",
    "    test = pd.read_csv(os.path.join(config['FOLDER']['INPUT'], 'test.csv'))\n",
    "    sample_submit = pd.read_csv(os.path.join(config['FOLDER']['INPUT'], 'sample_submit.csv'))"
   ]
  },
  {
   "cell_type": "markdown",
   "id": "e3d7aa03",
   "metadata": {},
   "source": [
    "# Feature engineering"
   ]
  },
  {
   "cell_type": "code",
   "execution_count": null,
   "id": "f93d8ede",
   "metadata": {
    "execution": {
     "iopub.execute_input": "2021-08-07T13:53:50.758456Z",
     "iopub.status.busy": "2021-08-07T13:53:50.757457Z",
     "iopub.status.idle": "2021-08-07T13:53:50.762462Z",
     "shell.execute_reply": "2021-08-07T13:53:50.763458Z"
    }
   },
   "outputs": [],
   "source": [
    "train_path = os.path.join(config['FOLDER']['FEATURES'], 'train_features.csv')\n",
    "test_path = os.path.join(config['FOLDER']['FEATURES'], 'test_features.csv')"
   ]
  },
  {
   "cell_type": "code",
   "execution_count": null,
   "id": "cdbb89ac",
   "metadata": {
    "execution": {
     "iopub.execute_input": "2021-08-07T13:53:50.771464Z",
     "iopub.status.busy": "2021-08-07T13:53:50.770459Z",
     "iopub.status.idle": "2021-08-07T13:53:52.709352Z",
     "shell.execute_reply": "2021-08-07T13:53:52.709352Z"
    }
   },
   "outputs": [],
   "source": [
    "X, X_test = make_or_load_features(train, test, train_path, test_path, logger)"
   ]
  },
  {
   "cell_type": "code",
   "execution_count": null,
   "id": "0ea8ec43",
   "metadata": {
    "execution": {
     "iopub.execute_input": "2021-08-07T13:53:52.727357Z",
     "iopub.status.busy": "2021-08-07T13:53:52.727357Z",
     "iopub.status.idle": "2021-08-07T13:53:52.788358Z",
     "shell.execute_reply": "2021-08-07T13:53:52.789354Z"
    }
   },
   "outputs": [],
   "source": [
    "X"
   ]
  },
  {
   "cell_type": "code",
   "execution_count": null,
   "id": "0e51fe29",
   "metadata": {
    "execution": {
     "iopub.execute_input": "2021-08-07T13:53:52.799352Z",
     "iopub.status.busy": "2021-08-07T13:53:52.793355Z",
     "iopub.status.idle": "2021-08-07T13:53:52.851352Z",
     "shell.execute_reply": "2021-08-07T13:53:52.852360Z"
    }
   },
   "outputs": [],
   "source": [
    "X_test"
   ]
  },
  {
   "cell_type": "code",
   "execution_count": null,
   "id": "313fc4a6",
   "metadata": {
    "execution": {
     "iopub.execute_input": "2021-08-07T13:53:52.862355Z",
     "iopub.status.busy": "2021-08-07T13:53:52.862355Z",
     "iopub.status.idle": "2021-08-07T13:53:52.867353Z",
     "shell.execute_reply": "2021-08-07T13:53:52.867353Z"
    }
   },
   "outputs": [],
   "source": [
    "X.columns = [re.sub(r\"[:;/']\", '', c) for c in X.columns]\n",
    "X_test.columns = [re.sub(r\"[:;/']\", '', c) for c in X.columns]"
   ]
  },
  {
   "cell_type": "code",
   "execution_count": null,
   "id": "026ffc01",
   "metadata": {
    "execution": {
     "iopub.execute_input": "2021-08-07T13:53:52.879353Z",
     "iopub.status.busy": "2021-08-07T13:53:52.879353Z",
     "iopub.status.idle": "2021-08-07T13:53:52.882352Z",
     "shell.execute_reply": "2021-08-07T13:53:52.883354Z"
    }
   },
   "outputs": [],
   "source": [
    "# Clustering\n",
    "area_features = ['latitude', 'longitude']\n",
    "\n",
    "# Onehot encoding\n",
    "categorical_features = ['cancellation_policy', 'bed_type', 'city', 'neighbourhood', 'property_type',\n",
    "                        'room_type', 'zipcode5', 'zipcode_1st_digit']\n",
    "\n",
    "# They do not need to be encoded\n",
    "int_flag_features = ['cleaning_fee', 'host_has_profile_pic', 'host_identity_verified',\n",
    "                     'instant_bookable', 'has_thumbnail', 'zipcode_imputed']\n",
    "\n",
    "# Already one-hot style\n",
    "amenity_onehot_features = [c for c in X.columns if c.startswith('has_') and c.endswith('_amenity')]\n",
    "\n",
    "discrete_features = categorical_features + int_flag_features + amenity_onehot_features\n",
    "\n",
    "# Scaling, transformation\n",
    "continuous_features = [\n",
    "    c for c in X.columns\n",
    "    if c not in discrete_features + area_features + ['id', 'y']\n",
    "]"
   ]
  },
  {
   "cell_type": "code",
   "execution_count": null,
   "id": "6893507e",
   "metadata": {
    "execution": {
     "iopub.execute_input": "2021-08-07T13:53:52.916995Z",
     "iopub.status.busy": "2021-08-07T13:53:52.915995Z",
     "iopub.status.idle": "2021-08-07T13:53:53.915923Z",
     "shell.execute_reply": "2021-08-07T13:53:53.916919Z"
    }
   },
   "outputs": [],
   "source": [
    "%%time\n",
    "# Reduce dimension & whitening\n",
    "## training\n",
    "decomposer = PCA(n_components=0.8, random_state=SEED, whiten=True).fit(X[amenity_onehot_features])\n",
    "X_amenity_components = decomposer.transform(X[amenity_onehot_features])\n",
    "amenity_components_columns = [f'amenity_x{i + 1}' for i in range(decomposer.n_components_)]\n",
    "X_amenity_components = pd.DataFrame(data=X_amenity_components,\n",
    "                                    columns=amenity_components_columns)\n",
    "X = pd.concat([X, X_amenity_components], axis=1)\n",
    "# X.drop(columns=amenity_onehot_features, inplace=True)\n",
    "X_test_amenity_components = decomposer.transform(X_test[amenity_onehot_features])\n",
    "X_test_amenity_components = pd.DataFrame(data=X_test_amenity_components,\n",
    "                                         columns=amenity_components_columns)\n",
    "X_test = pd.concat([X_test, X_test_amenity_components], axis=1)\n",
    "# X_test.drop(columns=amenity_onehot_features, inplace=True)"
   ]
  },
  {
   "cell_type": "code",
   "execution_count": null,
   "id": "3cdd743d",
   "metadata": {},
   "outputs": [],
   "source": [
    "f = lambda s1, s2: ' '.join([s1, s2])\n",
    "train['name+description'] = np.vectorize(f)(train['name'], train['description'])\n",
    "test['name+description'] = np.vectorize(f)(test['name'], test['description'])"
   ]
  },
  {
   "cell_type": "code",
   "execution_count": null,
   "id": "fb00d478",
   "metadata": {},
   "outputs": [],
   "source": [
    "%%time\n",
    "vec_train, vec_test = make_or_load_vector(train=train,\n",
    "                                          test=test,\n",
    "                                          feature_dir=config['FOLDER']['FEATURES'],\n",
    "                                          logger=logger,\n",
    "                                          text_column='name+description',\n",
    "                                          embedder='lda_count',\n",
    "                                          overwrite=True,\n",
    "                                          random_state=85)"
   ]
  },
  {
   "cell_type": "code",
   "execution_count": null,
   "id": "40b2772e",
   "metadata": {
    "execution": {
     "iopub.execute_input": "2021-08-07T14:01:55.600218Z",
     "iopub.status.busy": "2021-08-07T14:01:55.599216Z",
     "iopub.status.idle": "2021-08-07T14:01:55.620260Z",
     "shell.execute_reply": "2021-08-07T14:01:55.621234Z"
    }
   },
   "outputs": [],
   "source": [
    "%%time\n",
    "vec_columns = vec_train.columns.tolist()"
   ]
  },
  {
   "cell_type": "code",
   "execution_count": null,
   "id": "15296b41",
   "metadata": {
    "execution": {
     "iopub.execute_input": "2021-08-07T14:01:55.633240Z",
     "iopub.status.busy": "2021-08-07T14:01:55.631222Z",
     "iopub.status.idle": "2021-08-07T14:01:55.857887Z",
     "shell.execute_reply": "2021-08-07T14:01:55.859894Z"
    }
   },
   "outputs": [],
   "source": [
    "%%time\n",
    "X = pd.concat([X, vec_train], axis=1)\n",
    "X_test = pd.concat([X_test, vec_test], axis=1)\n",
    "X.shape, X_test.shape"
   ]
  },
  {
   "cell_type": "code",
   "execution_count": null,
   "id": "da8fac8e",
   "metadata": {
    "execution": {
     "iopub.execute_input": "2021-08-07T14:01:55.867880Z",
     "iopub.status.busy": "2021-08-07T14:01:55.866885Z",
     "iopub.status.idle": "2021-08-07T14:01:55.883893Z",
     "shell.execute_reply": "2021-08-07T14:01:55.884880Z"
    }
   },
   "outputs": [],
   "source": [
    "passthrough_features = amenity_onehot_features \\\n",
    "                     + amenity_components_columns \\\n",
    "                     + int_flag_features \\\n",
    "                     + area_features \\\n",
    "                     + vec_columns"
   ]
  },
  {
   "cell_type": "code",
   "execution_count": null,
   "id": "7ad60d53",
   "metadata": {
    "execution": {
     "iopub.execute_input": "2021-08-07T14:01:55.897899Z",
     "iopub.status.busy": "2021-08-07T14:01:55.895887Z",
     "iopub.status.idle": "2021-08-07T14:01:55.900414Z",
     "shell.execute_reply": "2021-08-07T14:01:55.901444Z"
    }
   },
   "outputs": [],
   "source": [
    "def get_classifier(continuous_features, discrete_features, passthrough_features, random_state):\n",
    "    continuous_preprocessor = Pipeline(\n",
    "        steps=[\n",
    "            ('imputer', SimpleImputer(strategy='median'))\n",
    "        ]\n",
    "    )\n",
    "    categorical_preprocessor = OneHotEncoder(handle_unknown='ignore')\n",
    "    preprocessor = ColumnTransformer(\n",
    "        transformers=[\n",
    "            ('categorical', categorical_preprocessor, continuous_features),\n",
    "            ('continuous', continuous_preprocessor, discrete_features),\n",
    "            ('others', 'passthrough', passthrough_features)\n",
    "        ],\n",
    "        sparse_threshold=0\n",
    "    )\n",
    "    return Pipeline(\n",
    "        steps=[\n",
    "            ('preprocessor', preprocessor),\n",
    "            ('classifier', ComplementNB())\n",
    "        ]\n",
    "    )"
   ]
  },
  {
   "cell_type": "markdown",
   "id": "0660068a",
   "metadata": {},
   "source": [
    "# Cross validation"
   ]
  },
  {
   "cell_type": "markdown",
   "id": "a5066447",
   "metadata": {},
   "source": [
    "## Preparation"
   ]
  },
  {
   "cell_type": "code",
   "execution_count": null,
   "id": "b5956148",
   "metadata": {
    "execution": {
     "iopub.execute_input": "2021-08-07T14:01:55.908537Z",
     "iopub.status.busy": "2021-08-07T14:01:55.907536Z",
     "iopub.status.idle": "2021-08-07T14:01:55.916546Z",
     "shell.execute_reply": "2021-08-07T14:01:55.917539Z"
    }
   },
   "outputs": [],
   "source": [
    "y_min, y_max = train['y'].min(), train['y'].max()  # clipping に必要"
   ]
  },
  {
   "cell_type": "code",
   "execution_count": null,
   "id": "589c18e8",
   "metadata": {
    "execution": {
     "iopub.execute_input": "2021-08-07T14:01:55.922536Z",
     "iopub.status.busy": "2021-08-07T14:01:55.921539Z",
     "iopub.status.idle": "2021-08-07T14:01:56.060554Z",
     "shell.execute_reply": "2021-08-07T14:01:56.061564Z"
    }
   },
   "outputs": [],
   "source": [
    "# ターゲットは対数変換する\n",
    "y = train.set_index('id').loc[X['id']]['y']\n",
    "y_log = np.log(y)\n",
    "y_log"
   ]
  },
  {
   "cell_type": "code",
   "execution_count": null,
   "id": "f07cc623",
   "metadata": {
    "execution": {
     "iopub.execute_input": "2021-08-07T14:01:56.069542Z",
     "iopub.status.busy": "2021-08-07T14:01:56.067547Z",
     "iopub.status.idle": "2021-08-07T14:01:56.089536Z",
     "shell.execute_reply": "2021-08-07T14:01:56.090538Z"
    }
   },
   "outputs": [],
   "source": [
    "# Stratified K-fold 用\n",
    "y_labels = pd.cut(y_log, bins=3, labels=range(3))\n",
    "y_labels"
   ]
  },
  {
   "cell_type": "code",
   "execution_count": null,
   "id": "add7aa2d",
   "metadata": {
    "execution": {
     "iopub.execute_input": "2021-08-07T14:01:56.101563Z",
     "iopub.status.busy": "2021-08-07T14:01:56.100547Z",
     "iopub.status.idle": "2021-08-07T14:01:56.108849Z",
     "shell.execute_reply": "2021-08-07T14:01:56.109844Z"
    }
   },
   "outputs": [],
   "source": [
    "y_threshold = np.log(Y_THRESHOLD)\n",
    "y_threshold"
   ]
  },
  {
   "cell_type": "code",
   "execution_count": null,
   "id": "b3551cbc",
   "metadata": {
    "execution": {
     "iopub.execute_input": "2021-08-07T14:01:56.118841Z",
     "iopub.status.busy": "2021-08-07T14:01:56.115878Z",
     "iopub.status.idle": "2021-08-07T14:01:56.140841Z",
     "shell.execute_reply": "2021-08-07T14:01:56.140841Z"
    }
   },
   "outputs": [],
   "source": [
    "id_test = X_test['id'].values\n",
    "id_test"
   ]
  },
  {
   "cell_type": "code",
   "execution_count": null,
   "id": "144f89be",
   "metadata": {
    "execution": {
     "iopub.execute_input": "2021-08-07T14:01:56.147839Z",
     "iopub.status.busy": "2021-08-07T14:01:56.146847Z",
     "iopub.status.idle": "2021-08-07T14:01:56.153846Z",
     "shell.execute_reply": "2021-08-07T14:01:56.154840Z"
    }
   },
   "outputs": [],
   "source": [
    "train.set_index('id', inplace=True)"
   ]
  },
  {
   "cell_type": "code",
   "execution_count": null,
   "id": "3a7cbf89",
   "metadata": {},
   "outputs": [],
   "source": [
    "@np.vectorize\n",
    "def choice_prediction(pred1: float, pred2: float, pred3: float) -> float:\n",
    "    \"\"\"分類器の予測結果に従いモデル②③のどちらの予測を採用するかを決める\n",
    "\n",
    "    pred1: モデル①の予測結果（確率とかではなくクラス）\n",
    "    pred2: モデル②の予測結果\n",
    "    pred3: モデル③の予測結果\n",
    "    \n",
    "    https://github.com/Quvotha/aiquest2021-assesment/issues/8#issuecomment-892219128\n",
    "    \"\"\"\n",
    "    return pred2 if pred1 == 1 else pred3"
   ]
  },
  {
   "cell_type": "markdown",
   "id": "656e9a18",
   "metadata": {},
   "source": [
    "## Training models"
   ]
  },
  {
   "cell_type": "code",
   "execution_count": null,
   "id": "00cb56e8",
   "metadata": {
    "execution": {
     "iopub.execute_input": "2021-08-07T14:01:56.267841Z",
     "iopub.status.busy": "2021-08-07T14:01:56.263855Z",
     "iopub.status.idle": "2021-08-07T14:09:11.585168Z",
     "shell.execute_reply": "2021-08-07T14:09:11.585168Z"
    }
   },
   "outputs": [],
   "source": [
    "splitter = StratifiedKFold(n_splits=N_SPLITS, shuffle=True, random_state=SEED)\n",
    "for i, (train_idx, vaild_idx) in enumerate(splitter.split(X=X, y=y_labels)):\n",
    "    num_fold = i + 1\n",
    "    logger.debug('Start fold {} ({:.3f} seconds passed)'.format(num_fold, time.time() - SINCE))\n",
    "\n",
    "    # 訓練データと検証データに分割\n",
    "    id_train = X.iloc[train_idx]['id'].values\n",
    "    X_train = X.iloc[train_idx].drop(columns=['id'])\n",
    "    y_train = y_log[train_idx].values\n",
    "    id_valid = X.iloc[vaild_idx]['id'].values\n",
    "    X_valid = X.iloc[vaild_idx].drop(columns=['id'])\n",
    "    y_valid = y_log[vaild_idx].values\n",
    "    \n",
    "    # モデルの訓練\n",
    "    ## 分類モデルの訓練\n",
    "    with timer('Training: classifier', logger):\n",
    "        y_train_clf = 1 * (y_train > y_threshold)\n",
    "        y_valid_clf = 1 * (y_valid > y_threshold)\n",
    "        # モデル①\n",
    "        classifier = get_classifier(continuous_features=continuous_features,\n",
    "                                    discrete_features=discrete_features,\n",
    "                                    passthrough_features=passthrough_features,\n",
    "                                    random_state=SEED)\n",
    "        classifier.fit(X_train, y_train_clf)\n",
    "    ## 分類モデルの評価\n",
    "    with timer('Evaluate classifier', logger):\n",
    "        pred_train_clf = classifier.predict(X_train)\n",
    "        logger.debug('Training f1 score: {:.6f}'.format(f1_score(y_train_clf, pred_train_clf)))\n",
    "        logger.debug('Training precision: {:.6f}'.format(precision_score(y_train_clf, pred_train_clf)))\n",
    "        logger.debug('Training recall: {:.6f}'.format(recall_score(y_train_clf, pred_train_clf)))\n",
    "        pred_valid_clf = classifier.predict(X_valid)\n",
    "        logger.debug('Validation f1 score: {:.6f}'.format(f1_score(y_valid_clf, pred_valid_clf)))\n",
    "        logger.debug('Validation precision: {:.6f}'.format(precision_score(y_valid_clf, pred_valid_clf)))\n",
    "        logger.debug('Validation recall: {:.6f}'.format(recall_score(y_valid_clf, pred_valid_clf)))\n",
    "    ## `y` 予測モデルの訓練\n",
    "    with timer('Training regressor', logger):\n",
    "        class1_mask = y_train > y_threshold\n",
    "        # モデル③\n",
    "        estimator0 = LGBMRegressor(n_estimators=300,\n",
    "                                   random_state=SEED,\n",
    "                                   n_jobs=-1,\n",
    "                                   learning_rate=0.1,\n",
    "                                   importance_type='gain')\n",
    "        estimator0.fit(X_train[~class1_mask], y_train[~class1_mask], categorical_feature=discrete_features)\n",
    "        # モデル②\n",
    "        estimator1 = LGBMRegressor(n_estimators=300,\n",
    "                                   random_state=SEED,\n",
    "                                   n_jobs=-1,\n",
    "                                   learning_rate=0.1,\n",
    "                                   importance_type='gain')\n",
    "        estimator1.fit(X_train[class1_mask], y_train[class1_mask], categorical_feature=discrete_features)\n",
    "        \n",
    "    # 予測結果を保存する\n",
    "    with timer('Prediction', logger):\n",
    "        # 訓練データ\n",
    "        proba_train = classifier.predict_proba(X_train)\n",
    "        pred_train0 = estimator0.predict(X_train)\n",
    "        pred_train1 = estimator1.predict(X_train)\n",
    "        pred_train = choice_prediction(pred1=pred_train_clf, pred2=pred_train1, pred3=pred_train0)\n",
    "        pred_train = pd.DataFrame(data=pred_train, columns=['pred'])\n",
    "        pred_train['pred'] = np.exp(pred_train['pred'])\n",
    "        pred_train['pred'].clip(lower=y_min * CLIP_LOWER_RATE, upper=y_max * CLIP_UPPER_RATE, inplace=True)\n",
    "        # 検証データ\n",
    "        proba_valid = classifier.predict_proba(X_valid)\n",
    "        pred_valid0 = estimator0.predict(X_valid)\n",
    "        pred_valid1 = estimator1.predict(X_valid)\n",
    "        pred_valid = choice_prediction(pred1=pred_valid_clf, pred2=pred_valid1, pred3=pred_valid0)\n",
    "        pred_valid = pd.DataFrame(data=pred_valid, columns=['pred'])\n",
    "        pred_valid['pred'] = np.exp(pred_valid['pred'])\n",
    "        pred_valid['pred'].clip(lower=y_min * CLIP_LOWER_RATE, upper=y_max * CLIP_UPPER_RATE, inplace=True)\n",
    "        # テストデータ\n",
    "        proba_test = classifier.predict_proba(X_test.drop(columns=['id']))\n",
    "        pred_test_clf = classifier.predict(X_test.drop(columns=['id']))\n",
    "        pred_test0 = estimator0.predict(X_test.drop(columns=['id']))\n",
    "        pred_test1 = estimator1.predict(X_test.drop(columns=['id']))\n",
    "        pred_test = choice_prediction(pred1=pred_test_clf, pred2=pred_test1, pred3=pred_test0)\n",
    "        pred_test = pd.DataFrame(data=pred_test, columns=['pred'])\n",
    "        pred_test['pred'] = np.exp(pred_test['pred'])\n",
    "        pred_test['pred'].clip(lower=y_min * CLIP_LOWER_RATE, upper=y_max * CLIP_UPPER_RATE, inplace=True)\n",
    "    with timer('Save prediction', logger):\n",
    "        ## 訓練データ\n",
    "        pred_train['id'] = id_train\n",
    "        pred_train.to_csv(os.path.join(output_dir, f'cv_fold{num_fold}_training.csv'), index=False)\n",
    "        ## 検証データ\n",
    "        pred_valid['id'] = id_valid\n",
    "        pred_valid.to_csv(os.path.join(output_dir, f'cv_fold{num_fold}_validation.csv'), index=False)\n",
    "        ## テストデータ\n",
    "        pred_test['id'] = id_test\n",
    "        pred_test.to_csv(os.path.join(output_dir, f'cv_fold{num_fold}_test.csv'), index=False)\n",
    "    ## モデルの保存\n",
    "    with timer('Save model', logger):\n",
    "        filepath_fold_model = os.path.join(output_dir, f'cv_fold{num_fold}_model.pkl')\n",
    "        with open(filepath_fold_model, 'wb') as f:\n",
    "            pickle.dump({\n",
    "                'class0': estimator0,\n",
    "                'class1': estimator1,\n",
    "                'classifier': classifier\n",
    "            }, f)\n",
    "    logger.debug('Complete fold {} ({:.3f} seconds passed)'.format(num_fold, time.time() - SINCE))"
   ]
  },
  {
   "cell_type": "markdown",
   "id": "e5ae9866",
   "metadata": {},
   "source": [
    "## Evaluation"
   ]
  },
  {
   "cell_type": "code",
   "execution_count": null,
   "id": "1e0ee9a3",
   "metadata": {
    "execution": {
     "iopub.execute_input": "2021-08-07T14:09:11.593168Z",
     "iopub.status.busy": "2021-08-07T14:09:11.592169Z",
     "iopub.status.idle": "2021-08-07T14:09:11.600168Z",
     "shell.execute_reply": "2021-08-07T14:09:11.600168Z"
    }
   },
   "outputs": [],
   "source": [
    "rmse = partial(mse, squared=False)"
   ]
  },
  {
   "cell_type": "code",
   "execution_count": null,
   "id": "20e9b5e2",
   "metadata": {
    "execution": {
     "iopub.execute_input": "2021-08-07T14:09:11.605166Z",
     "iopub.status.busy": "2021-08-07T14:09:11.604170Z",
     "iopub.status.idle": "2021-08-07T14:09:11.614165Z",
     "shell.execute_reply": "2021-08-07T14:09:11.614165Z"
    }
   },
   "outputs": [],
   "source": [
    "metrics = defaultdict(list)"
   ]
  },
  {
   "cell_type": "markdown",
   "id": "86219793",
   "metadata": {},
   "source": [
    "### Training set"
   ]
  },
  {
   "cell_type": "code",
   "execution_count": null,
   "id": "8ad3c78f",
   "metadata": {
    "execution": {
     "iopub.execute_input": "2021-08-07T14:09:11.622166Z",
     "iopub.status.busy": "2021-08-07T14:09:11.618168Z",
     "iopub.status.idle": "2021-08-07T14:09:11.807171Z",
     "shell.execute_reply": "2021-08-07T14:09:11.807171Z"
    }
   },
   "outputs": [],
   "source": [
    "pred_train_dfs = []\n",
    "for i in range(N_SPLITS):\n",
    "    num_fold = i + 1\n",
    "    # Read cv result\n",
    "    pred_df = pd.read_csv(os.path.join(output_dir, f'cv_fold{num_fold}_training.csv'))\n",
    "    pred_df['actual'] = train.loc[pred_df['id'], 'y'].values\n",
    "    cv_loss = rmse(pred_df['actual'], pred_df['pred'])\n",
    "    logger.info('CV fold {} training loss={:.7f}'.format(num_fold, cv_loss))\n",
    "    metrics['train_losses'].append(cv_loss)\n",
    "    pred_train_dfs.append(pred_df)\n",
    "\n",
    "metrics['train_losses_avg'] = np.mean(metrics['train_losses'])\n",
    "metrics['train_losses_std'] = np.std(metrics['train_losses'])\n",
    "\n",
    "logger.info('CV training loss: average={:.7f}, std={:.7f}' \\\n",
    "            .format(metrics['train_losses_avg'], metrics['train_losses_std']))"
   ]
  },
  {
   "cell_type": "code",
   "execution_count": null,
   "id": "36960aa3",
   "metadata": {
    "execution": {
     "iopub.execute_input": "2021-08-07T14:09:11.812168Z",
     "iopub.status.busy": "2021-08-07T14:09:11.811168Z",
     "iopub.status.idle": "2021-08-07T14:09:12.088539Z",
     "shell.execute_reply": "2021-08-07T14:09:12.089536Z"
    }
   },
   "outputs": [],
   "source": [
    "pred_train = pd.concat(pred_train_dfs).groupby('id').sum()\n",
    "pred_train = pred_train / N_SPLITS\n",
    "pred_train['actual'] = train.loc[pred_train.index, 'y'].values\n",
    "pred_train.to_csv(os.path.join(output_dir, 'prediction_train.csv'))"
   ]
  },
  {
   "cell_type": "code",
   "execution_count": null,
   "id": "9c512ee7",
   "metadata": {
    "execution": {
     "iopub.execute_input": "2021-08-07T14:09:12.093537Z",
     "iopub.status.busy": "2021-08-07T14:09:12.092535Z",
     "iopub.status.idle": "2021-08-07T14:09:12.110538Z",
     "shell.execute_reply": "2021-08-07T14:09:12.110538Z"
    }
   },
   "outputs": [],
   "source": [
    "train_loss = rmse(pred_train['actual'], pred_train['pred'])\n",
    "metrics['train_loss'] = train_loss\n",
    "logger.info('Training loss: {:.7f}'.format(train_loss))"
   ]
  },
  {
   "cell_type": "markdown",
   "id": "dc438710",
   "metadata": {},
   "source": [
    "### Validation set"
   ]
  },
  {
   "cell_type": "code",
   "execution_count": null,
   "id": "73167f1b",
   "metadata": {
    "execution": {
     "iopub.execute_input": "2021-08-07T14:09:12.119537Z",
     "iopub.status.busy": "2021-08-07T14:09:12.118542Z",
     "iopub.status.idle": "2021-08-07T14:09:12.246159Z",
     "shell.execute_reply": "2021-08-07T14:09:12.246159Z"
    }
   },
   "outputs": [],
   "source": [
    "pred_valid_dfs = []\n",
    "for i in range(N_SPLITS):\n",
    "    num_fold = i + 1\n",
    "    # Read cv result\n",
    "    pred_df = pd.read_csv(os.path.join(output_dir, f'cv_fold{num_fold}_validation.csv'))\n",
    "    pred_df['actual'] = train.loc[pred_df['id'], 'y'].values\n",
    "    cv_loss = rmse(pred_df['actual'], pred_df['pred'])\n",
    "    logger.info('CV fold {} validation loss={:.7f}'.format(num_fold, cv_loss))\n",
    "    metrics['valid_losses'].append(cv_loss)\n",
    "    pred_valid_dfs.append(pred_df)\n",
    "\n",
    "metrics['valid_losses_avg'] = np.mean(metrics['valid_losses'])\n",
    "metrics['valid_losses_std'] = np.std(metrics['valid_losses'])\n",
    "\n",
    "logger.info('CV validation loss: average={:.7f}, std={:.7f}' \\\n",
    "            .format(metrics['valid_losses_avg'], metrics['valid_losses_std']))"
   ]
  },
  {
   "cell_type": "code",
   "execution_count": null,
   "id": "84ee03b2",
   "metadata": {
    "execution": {
     "iopub.execute_input": "2021-08-07T14:09:12.250162Z",
     "iopub.status.busy": "2021-08-07T14:09:12.248160Z",
     "iopub.status.idle": "2021-08-07T14:09:12.499164Z",
     "shell.execute_reply": "2021-08-07T14:09:12.500162Z"
    }
   },
   "outputs": [],
   "source": [
    "pred_valid = pd.concat(pred_valid_dfs).groupby('id').sum()\n",
    "pred_valid = pred_valid / N_SPLITS\n",
    "pred_valid['actual'] = train.loc[pred_valid.index, 'y'].values\n",
    "pred_valid.to_csv(os.path.join(output_dir, 'prediction_valid.csv'))"
   ]
  },
  {
   "cell_type": "code",
   "execution_count": null,
   "id": "02b303ad",
   "metadata": {
    "execution": {
     "iopub.execute_input": "2021-08-07T14:09:12.507182Z",
     "iopub.status.busy": "2021-08-07T14:09:12.507182Z",
     "iopub.status.idle": "2021-08-07T14:09:12.514165Z",
     "shell.execute_reply": "2021-08-07T14:09:12.515163Z"
    }
   },
   "outputs": [],
   "source": [
    "valid_loss = rmse(pred_valid['actual'], pred_valid['pred'])\n",
    "metrics['valid_loss'] = valid_loss\n",
    "logger.info('Validation loss: {:.7f}'.format(valid_loss))"
   ]
  },
  {
   "cell_type": "code",
   "execution_count": null,
   "id": "4edaccac",
   "metadata": {
    "execution": {
     "iopub.execute_input": "2021-08-07T14:09:12.522162Z",
     "iopub.status.busy": "2021-08-07T14:09:12.521161Z",
     "iopub.status.idle": "2021-08-07T14:09:12.529163Z",
     "shell.execute_reply": "2021-08-07T14:09:12.530159Z"
    }
   },
   "outputs": [],
   "source": [
    "with open(os.path.join(output_dir, 'metrics.json'), 'w') as f:\n",
    "    json.dump(metrics, f)"
   ]
  },
  {
   "cell_type": "code",
   "execution_count": null,
   "id": "dab51ae5",
   "metadata": {
    "execution": {
     "iopub.execute_input": "2021-08-07T14:09:12.559160Z",
     "iopub.status.busy": "2021-08-07T14:09:12.554160Z",
     "iopub.status.idle": "2021-08-07T14:09:13.065720Z",
     "shell.execute_reply": "2021-08-07T14:09:13.065720Z"
    }
   },
   "outputs": [],
   "source": [
    "fig = plt.figure(figsize=(12.5, 6.5))\n",
    "plt.suptitle('Actual vs Prediction')\n",
    "\n",
    "plt.subplot(1, 2, 1)\n",
    "ax = sns.scatterplot(pred_train['actual'], pred_train['pred'])\n",
    "plt.plot(pred_train['actual'], pred_train['actual'], color='black', linewidth=0.5)\n",
    "ax.set_xlim(0, 2000)\n",
    "ax.set_ylim(0, 2000)\n",
    "ax.set_title('Training set');\n",
    "# plt.axes().set_aspect('equal')\n",
    "plt.subplot(1, 2, 2)\n",
    "ax = sns.scatterplot(pred_valid['actual'], pred_valid['pred'])\n",
    "plt.plot(pred_valid['actual'], pred_valid['actual'], color='black', linewidth=0.5)\n",
    "ax.set_xlim(0, 2000)\n",
    "ax.set_ylim(0, 2000)\n",
    "plt.title('Validation set');"
   ]
  },
  {
   "cell_type": "code",
   "execution_count": null,
   "id": "7c9b3b0b",
   "metadata": {
    "execution": {
     "iopub.execute_input": "2021-08-07T14:09:13.087731Z",
     "iopub.status.busy": "2021-08-07T14:09:13.086728Z",
     "iopub.status.idle": "2021-08-07T14:09:13.242340Z",
     "shell.execute_reply": "2021-08-07T14:09:13.242340Z"
    }
   },
   "outputs": [],
   "source": [
    "plt.plot(metrics['train_losses'], label='training set')\n",
    "plt.plot(metrics['valid_losses'], label='validation set')\n",
    "plt.title('Training/Validation loss')\n",
    "plt.legend();"
   ]
  },
  {
   "cell_type": "markdown",
   "id": "f0723976",
   "metadata": {},
   "source": [
    "# Submission"
   ]
  },
  {
   "cell_type": "code",
   "execution_count": null,
   "id": "861c68f8",
   "metadata": {
    "execution": {
     "iopub.execute_input": "2021-08-07T14:09:13.246338Z",
     "iopub.status.busy": "2021-08-07T14:09:13.245339Z",
     "iopub.status.idle": "2021-08-07T14:09:13.385548Z",
     "shell.execute_reply": "2021-08-07T14:09:13.385548Z"
    }
   },
   "outputs": [],
   "source": [
    "pred_test_dfs = [pd.read_csv(os.path.join(output_dir, f'cv_fold{i + 1}_test.csv')) for i in range(N_SPLITS)]"
   ]
  },
  {
   "cell_type": "code",
   "execution_count": null,
   "id": "3f587433",
   "metadata": {
    "execution": {
     "iopub.execute_input": "2021-08-07T14:09:13.392550Z",
     "iopub.status.busy": "2021-08-07T14:09:13.391549Z",
     "iopub.status.idle": "2021-08-07T14:09:13.416885Z",
     "shell.execute_reply": "2021-08-07T14:09:13.416885Z"
    }
   },
   "outputs": [],
   "source": [
    "pred_test = pd.concat(pred_test_dfs).groupby('id').sum()\n",
    "pred_test = pred_test / N_SPLITS"
   ]
  },
  {
   "cell_type": "code",
   "execution_count": null,
   "id": "ded9743e",
   "metadata": {
    "execution": {
     "iopub.execute_input": "2021-08-07T14:09:13.421885Z",
     "iopub.status.busy": "2021-08-07T14:09:13.421885Z",
     "iopub.status.idle": "2021-08-07T14:09:13.480484Z",
     "shell.execute_reply": "2021-08-07T14:09:13.480484Z"
    }
   },
   "outputs": [],
   "source": [
    "pred_test.to_csv(os.path.join(output_dir, f'{EXPERIMENT}_submission.csv'), header=None)"
   ]
  },
  {
   "cell_type": "markdown",
   "id": "083fe0ce",
   "metadata": {},
   "source": [
    "# Visualization"
   ]
  },
  {
   "cell_type": "code",
   "execution_count": null,
   "id": "b6996763",
   "metadata": {
    "execution": {
     "iopub.execute_input": "2021-08-07T14:09:13.534489Z",
     "iopub.status.busy": "2021-08-07T14:09:13.505493Z",
     "iopub.status.idle": "2021-08-07T14:09:15.113001Z",
     "shell.execute_reply": "2021-08-07T14:09:15.113999Z"
    }
   },
   "outputs": [],
   "source": [
    "ylim_min, ylim_max = np.log(y_min * CLIP_LOWER_RATE), np.log(y_max * CLIP_UPPER_RATE)\n",
    "fig = plt.figure(figsize=(10.5, 10.5))\n",
    "plt.subplot(2, 2, 1)\n",
    "ax = sns.histplot(y_log)\n",
    "ax.set_title('Actual y, log-scaled')\n",
    "ax.set_xlim(ylim_min, ylim_max)\n",
    "sns.despine()\n",
    "\n",
    "plt.subplot(2, 2, 2)\n",
    "ax = sns.histplot(np.log(pred_train['pred']))\n",
    "ax.set_title('Training set, log-scaled')\n",
    "ax.set_xlim(ylim_min, ylim_max)\n",
    "sns.despine()\n",
    "\n",
    "plt.subplot(2, 2, 3)\n",
    "ax = sns.histplot(np.log(pred_valid['pred']))\n",
    "ax.set_title('Validation set, log-scaled')\n",
    "ax.set_xlim(ylim_min, ylim_max)\n",
    "sns.despine()\n",
    "\n",
    "plt.subplot(2, 2, 4)\n",
    "ax = sns.histplot(np.log(pred_test['pred']))\n",
    "ax.set_title('Test set, log-scaled')\n",
    "ax.set_xlim(ylim_min, ylim_max)\n",
    "sns.despine()\n",
    "\n",
    "fig.savefig(os.path.join(output_dir, 'figure.png'))"
   ]
  },
  {
   "cell_type": "code",
   "execution_count": null,
   "id": "af5404d6",
   "metadata": {
    "execution": {
     "iopub.execute_input": "2021-08-07T14:09:15.117999Z",
     "iopub.status.busy": "2021-08-07T14:09:15.117000Z",
     "iopub.status.idle": "2021-08-07T14:09:15.128999Z",
     "shell.execute_reply": "2021-08-07T14:09:15.128999Z"
    }
   },
   "outputs": [],
   "source": [
    "logger.debug('Complete({:.3f} seconds passed)'.format(time.time() - SINCE))"
   ]
  },
  {
   "cell_type": "markdown",
   "id": "1e7159b2",
   "metadata": {},
   "source": [
    "# Feature importance"
   ]
  },
  {
   "cell_type": "code",
   "execution_count": null,
   "id": "53c026d2",
   "metadata": {
    "execution": {
     "iopub.execute_input": "2021-08-07T14:09:15.136013Z",
     "iopub.status.busy": "2021-08-07T14:09:15.135002Z",
     "iopub.status.idle": "2021-08-07T14:09:15.144999Z",
     "shell.execute_reply": "2021-08-07T14:09:15.144999Z"
    }
   },
   "outputs": [],
   "source": [
    "pd.options.display.float_format = '{:.5f}'.format"
   ]
  },
  {
   "cell_type": "code",
   "execution_count": null,
   "id": "e0904998",
   "metadata": {
    "execution": {
     "iopub.execute_input": "2021-08-07T14:09:15.152006Z",
     "iopub.status.busy": "2021-08-07T14:09:15.151018Z",
     "iopub.status.idle": "2021-08-07T14:09:15.320104Z",
     "shell.execute_reply": "2021-08-07T14:09:15.321103Z"
    }
   },
   "outputs": [],
   "source": [
    "models = []\n",
    "for i, (train_idx, vaild_idx) in enumerate(splitter.split(X=X, y=y_labels)):\n",
    "    num_fold = i + 1\n",
    "\n",
    "    ## モデルの保存\n",
    "    filepath_fold_model = os.path.join(output_dir, f'cv_fold{num_fold}_model.pkl')\n",
    "    with open(filepath_fold_model, 'rb') as f:\n",
    "        model = pickle.load(f)\n",
    "    models.append(model)"
   ]
  },
  {
   "cell_type": "code",
   "execution_count": null,
   "id": "23a40501",
   "metadata": {
    "execution": {
     "iopub.execute_input": "2021-08-07T14:09:15.343104Z",
     "iopub.status.busy": "2021-08-07T14:09:15.342104Z",
     "iopub.status.idle": "2021-08-07T14:09:16.979813Z",
     "shell.execute_reply": "2021-08-07T14:09:16.980812Z"
    }
   },
   "outputs": [],
   "source": [
    "fig = plt.figure(figsize=(6.5, 21.5))\n",
    "for i in range(N_SPLITS):\n",
    "    plt.subplot(5, 1, i + 1)\n",
    "    imp_df = pd.DataFrame(data=model['class0'].feature_importances_, columns=['importance'])\n",
    "    imp_df['feature'] = X_train.columns.tolist()\n",
    "    imp_df.sort_values(['importance', 'feature'], ascending=False, inplace=True)\n",
    "    sns.barplot(data=imp_df.head(25), y='feature', x='importance')\n",
    "fig.savefig(os.path.join(output_dir, 'feature_importance0.png'))"
   ]
  },
  {
   "cell_type": "code",
   "execution_count": null,
   "id": "e2c7efc6",
   "metadata": {
    "execution": {
     "iopub.execute_input": "2021-08-07T14:09:17.007813Z",
     "iopub.status.busy": "2021-08-07T14:09:17.004819Z",
     "iopub.status.idle": "2021-08-07T14:09:18.476194Z",
     "shell.execute_reply": "2021-08-07T14:09:18.475194Z"
    }
   },
   "outputs": [],
   "source": [
    "fig = plt.figure(figsize=(6.5, 21.5))\n",
    "for i in range(N_SPLITS):\n",
    "    plt.subplot(5, 1, i + 1)\n",
    "    imp_df = pd.DataFrame(data=model['class1'].feature_importances_, columns=['importance'])\n",
    "    imp_df['feature'] = X_train.columns.tolist()\n",
    "    imp_df.sort_values(['importance', 'feature'], ascending=False, inplace=True)\n",
    "    sns.barplot(data=imp_df.head(25), y='feature', x='importance')\n",
    "fig.savefig(os.path.join(output_dir, 'feature_importance0.png'))"
   ]
  },
  {
   "cell_type": "markdown",
   "id": "87e85f75",
   "metadata": {},
   "source": [
    "# Error"
   ]
  },
  {
   "cell_type": "code",
   "execution_count": null,
   "id": "dfc6ee83",
   "metadata": {
    "execution": {
     "iopub.execute_input": "2021-08-07T14:09:18.480194Z",
     "iopub.status.busy": "2021-08-07T14:09:18.479195Z",
     "iopub.status.idle": "2021-08-07T14:09:18.522860Z",
     "shell.execute_reply": "2021-08-07T14:09:18.522860Z"
    }
   },
   "outputs": [],
   "source": [
    "pred_valid = pd.read_csv(os.path.join(output_dir, 'prediction_valid.csv'))"
   ]
  },
  {
   "cell_type": "code",
   "execution_count": null,
   "id": "23845459",
   "metadata": {
    "execution": {
     "iopub.execute_input": "2021-08-07T14:09:18.526858Z",
     "iopub.status.busy": "2021-08-07T14:09:18.526858Z",
     "iopub.status.idle": "2021-08-07T14:09:18.536872Z",
     "shell.execute_reply": "2021-08-07T14:09:18.537928Z"
    }
   },
   "outputs": [],
   "source": [
    "pred_valid['diff'] = pred_valid['pred'] - pred_valid['actual']"
   ]
  },
  {
   "cell_type": "code",
   "execution_count": null,
   "id": "12d5a400",
   "metadata": {
    "execution": {
     "iopub.execute_input": "2021-08-07T14:09:18.554878Z",
     "iopub.status.busy": "2021-08-07T14:09:18.539894Z",
     "iopub.status.idle": "2021-08-07T14:09:32.199994Z",
     "shell.execute_reply": "2021-08-07T14:09:32.200995Z"
    }
   },
   "outputs": [],
   "source": [
    "fig = plt.figure()\n",
    "plt.axes().set_aspect('equal')\n",
    "ax = sns.scatterplot(data=pred_valid, x='actual', y='pred')\n",
    "ax = sns.lineplot(data=pred_valid, x='actual', y='actual', color='red')\n",
    "fig.savefig(os.path.join(output_dir, 'compare_actual_prediction.png'))"
   ]
  },
  {
   "cell_type": "code",
   "execution_count": null,
   "id": "231d60df",
   "metadata": {
    "execution": {
     "iopub.execute_input": "2021-08-07T14:09:32.207996Z",
     "iopub.status.busy": "2021-08-07T14:09:32.207996Z",
     "iopub.status.idle": "2021-08-07T14:09:33.309832Z",
     "shell.execute_reply": "2021-08-07T14:09:33.310834Z"
    }
   },
   "outputs": [],
   "source": [
    "pred_valid.describe()\n",
    "sns.histplot(data=pred_valid, x='diff')\n",
    "sns.despine()"
   ]
  },
  {
   "cell_type": "code",
   "execution_count": null,
   "id": "7bfa538c",
   "metadata": {
    "execution": {
     "iopub.execute_input": "2021-08-07T14:09:33.322838Z",
     "iopub.status.busy": "2021-08-07T14:09:33.320852Z",
     "iopub.status.idle": "2021-08-07T14:09:34.235933Z",
     "shell.execute_reply": "2021-08-07T14:09:34.236926Z"
    }
   },
   "outputs": [],
   "source": [
    "diff_df = pd.merge(X, pred_valid[['id', 'diff']]).set_index('id')"
   ]
  },
  {
   "cell_type": "code",
   "execution_count": null,
   "id": "9dd3894a",
   "metadata": {
    "execution": {
     "iopub.execute_input": "2021-08-07T14:09:34.241926Z",
     "iopub.status.busy": "2021-08-07T14:09:34.240923Z",
     "iopub.status.idle": "2021-08-07T14:12:56.438826Z",
     "shell.execute_reply": "2021-08-07T14:12:56.440834Z"
    }
   },
   "outputs": [],
   "source": [
    "%%time\n",
    "import sweetviz\n",
    "report = sweetviz.analyze(diff_df, target_feat='diff', pairwise_analysis='off')\n",
    "report.show_html(os.path.join(output_dir, ('sweetviz_error_report.html')))"
   ]
  },
  {
   "cell_type": "code",
   "execution_count": null,
   "id": "f257be55",
   "metadata": {
    "execution": {
     "iopub.execute_input": "2021-08-07T14:12:56.448823Z",
     "iopub.status.busy": "2021-08-07T14:12:56.447825Z",
     "iopub.status.idle": "2021-08-07T14:12:56.451822Z",
     "shell.execute_reply": "2021-08-07T14:12:56.452822Z"
    }
   },
   "outputs": [],
   "source": [
    "pd.options.display.max_rows = 50\n",
    "pd.options.display.max_columns = diff_df.shape[1]"
   ]
  },
  {
   "cell_type": "code",
   "execution_count": null,
   "id": "7b6a7764",
   "metadata": {
    "execution": {
     "iopub.execute_input": "2021-08-07T14:12:56.457822Z",
     "iopub.status.busy": "2021-08-07T14:12:56.456825Z",
     "iopub.status.idle": "2021-08-07T14:12:56.992601Z",
     "shell.execute_reply": "2021-08-07T14:12:56.992601Z"
    }
   },
   "outputs": [],
   "source": [
    "diff_df.sort_values('diff').head(50)"
   ]
  },
  {
   "cell_type": "code",
   "execution_count": null,
   "id": "14761313",
   "metadata": {
    "execution": {
     "iopub.execute_input": "2021-08-07T14:12:56.997598Z",
     "iopub.status.busy": "2021-08-07T14:12:56.996601Z",
     "iopub.status.idle": "2021-08-07T14:12:57.386120Z",
     "shell.execute_reply": "2021-08-07T14:12:57.386120Z"
    }
   },
   "outputs": [],
   "source": [
    "diff_df.sort_values('diff').tail(50)"
   ]
  },
  {
   "cell_type": "code",
   "execution_count": null,
   "id": "fdb053a3",
   "metadata": {
    "execution": {
     "iopub.execute_input": "2021-08-07T14:12:57.392132Z",
     "iopub.status.busy": "2021-08-07T14:12:57.390124Z",
     "iopub.status.idle": "2021-08-07T14:13:08.981908Z",
     "shell.execute_reply": "2021-08-07T14:13:08.980910Z"
    }
   },
   "outputs": [],
   "source": [
    "diff_df.corr()"
   ]
  },
  {
   "cell_type": "code",
   "execution_count": null,
   "id": "561b0547",
   "metadata": {
    "execution": {
     "iopub.execute_input": "2021-08-07T14:13:08.986908Z",
     "iopub.status.busy": "2021-08-07T14:13:08.986908Z",
     "iopub.status.idle": "2021-08-07T14:13:22.271730Z",
     "shell.execute_reply": "2021-08-07T14:13:22.271730Z"
    }
   },
   "outputs": [],
   "source": [
    "diff_df.corr().sort_values('diff')['diff'].head(50)"
   ]
  },
  {
   "cell_type": "code",
   "execution_count": null,
   "id": "22a8841b",
   "metadata": {
    "execution": {
     "iopub.execute_input": "2021-08-07T14:13:22.274690Z",
     "iopub.status.busy": "2021-08-07T14:13:22.273691Z",
     "iopub.status.idle": "2021-08-07T14:13:26.064537Z",
     "shell.execute_reply": "2021-08-07T14:13:26.064537Z"
    }
   },
   "outputs": [],
   "source": [
    "from lightgbm import LGBMRegressor\n",
    "estimator = LGBMRegressor(random_state=SEED, n_jobs=-1, importance_type='gain').fit(diff_df.drop(columns=['diff']), diff_df['diff'])"
   ]
  },
  {
   "cell_type": "code",
   "execution_count": null,
   "id": "345caab2",
   "metadata": {
    "execution": {
     "iopub.execute_input": "2021-08-07T14:13:26.070536Z",
     "iopub.status.busy": "2021-08-07T14:13:26.068537Z",
     "iopub.status.idle": "2021-08-07T14:13:26.080051Z",
     "shell.execute_reply": "2021-08-07T14:13:26.080051Z"
    }
   },
   "outputs": [],
   "source": [
    "imp_df = pd.DataFrame(data=estimator.feature_importances_, columns=['importance'])"
   ]
  },
  {
   "cell_type": "code",
   "execution_count": null,
   "id": "92bbc9f4",
   "metadata": {
    "execution": {
     "iopub.execute_input": "2021-08-07T14:13:26.088050Z",
     "iopub.status.busy": "2021-08-07T14:13:26.087049Z",
     "iopub.status.idle": "2021-08-07T14:13:26.096053Z",
     "shell.execute_reply": "2021-08-07T14:13:26.095049Z"
    }
   },
   "outputs": [],
   "source": [
    "imp_df['feature'] = estimator.feature_name_"
   ]
  },
  {
   "cell_type": "code",
   "execution_count": null,
   "id": "9fca4c45",
   "metadata": {
    "execution": {
     "iopub.execute_input": "2021-08-07T14:13:26.103052Z",
     "iopub.status.busy": "2021-08-07T14:13:26.102056Z",
     "iopub.status.idle": "2021-08-07T14:13:26.127048Z",
     "shell.execute_reply": "2021-08-07T14:13:26.127048Z"
    }
   },
   "outputs": [],
   "source": [
    "imp_df.sort_values(['importance', 'feature'], ascending=False, inplace=True)\n",
    "imp_df"
   ]
  },
  {
   "cell_type": "code",
   "execution_count": null,
   "id": "99f02c61",
   "metadata": {
    "execution": {
     "iopub.execute_input": "2021-08-07T14:13:26.133054Z",
     "iopub.status.busy": "2021-08-07T14:13:26.131054Z",
     "iopub.status.idle": "2021-08-07T14:13:26.143050Z",
     "shell.execute_reply": "2021-08-07T14:13:26.143050Z"
    }
   },
   "outputs": [],
   "source": [
    "imp_df.to_csv(os.path.join(output_dir, 'diff_feature_importances.csv'), index=False)"
   ]
  },
  {
   "cell_type": "code",
   "execution_count": null,
   "id": "4d7a26a2",
   "metadata": {},
   "outputs": [],
   "source": []
  }
 ],
 "metadata": {
  "kernelspec": {
   "display_name": "Python 3",
   "language": "python",
   "name": "python3"
  },
  "language_info": {
   "codemirror_mode": {
    "name": "ipython",
    "version": 3
   },
   "file_extension": ".py",
   "mimetype": "text/x-python",
   "name": "python",
   "nbconvert_exporter": "python",
   "pygments_lexer": "ipython3",
   "version": "3.7.0"
  },
  "widgets": {
   "application/vnd.jupyter.widget-state+json": {
    "state": {
     "1aadc53c05434e5595c18412ce147746": {
      "model_module": "@jupyter-widgets/controls",
      "model_module_version": "1.5.0",
      "model_name": "DescriptionStyleModel",
      "state": {
       "_model_module": "@jupyter-widgets/controls",
       "_model_module_version": "1.5.0",
       "_model_name": "DescriptionStyleModel",
       "_view_count": null,
       "_view_module": "@jupyter-widgets/base",
       "_view_module_version": "1.2.0",
       "_view_name": "StyleView",
       "description_width": ""
      }
     },
     "1d214d387a6b4339a5122f2fe869bf3e": {
      "model_module": "@jupyter-widgets/controls",
      "model_module_version": "1.5.0",
      "model_name": "FloatProgressModel",
      "state": {
       "_dom_classes": [],
       "_model_module": "@jupyter-widgets/controls",
       "_model_module_version": "1.5.0",
       "_model_name": "FloatProgressModel",
       "_view_count": null,
       "_view_module": "@jupyter-widgets/controls",
       "_view_module_version": "1.5.0",
       "_view_name": "ProgressView",
       "bar_style": "success",
       "description": "",
       "description_tooltip": null,
       "layout": "IPY_MODEL_7643d96e3d3d47ef8a1bb736c2ce2054",
       "max": 286,
       "min": 0,
       "orientation": "horizontal",
       "style": "IPY_MODEL_22129479590344919f2143ec50b79e86",
       "value": 286
      }
     },
     "22129479590344919f2143ec50b79e86": {
      "model_module": "@jupyter-widgets/controls",
      "model_module_version": "1.5.0",
      "model_name": "ProgressStyleModel",
      "state": {
       "_model_module": "@jupyter-widgets/controls",
       "_model_module_version": "1.5.0",
       "_model_name": "ProgressStyleModel",
       "_view_count": null,
       "_view_module": "@jupyter-widgets/base",
       "_view_module_version": "1.2.0",
       "_view_name": "StyleView",
       "bar_color": null,
       "description_width": ""
      }
     },
     "28a2aa54ca1f4ad18d4efc9b1c2c29f7": {
      "model_module": "@jupyter-widgets/controls",
      "model_module_version": "1.5.0",
      "model_name": "DescriptionStyleModel",
      "state": {
       "_model_module": "@jupyter-widgets/controls",
       "_model_module_version": "1.5.0",
       "_model_name": "DescriptionStyleModel",
       "_view_count": null,
       "_view_module": "@jupyter-widgets/base",
       "_view_module_version": "1.2.0",
       "_view_name": "StyleView",
       "description_width": ""
      }
     },
     "2a7d6a03b34e4c7ea1732cff0398a2c0": {
      "model_module": "@jupyter-widgets/base",
      "model_module_version": "1.2.0",
      "model_name": "LayoutModel",
      "state": {
       "_model_module": "@jupyter-widgets/base",
       "_model_module_version": "1.2.0",
       "_model_name": "LayoutModel",
       "_view_count": null,
       "_view_module": "@jupyter-widgets/base",
       "_view_module_version": "1.2.0",
       "_view_name": "LayoutView",
       "align_content": null,
       "align_items": null,
       "align_self": null,
       "border": null,
       "bottom": null,
       "display": null,
       "flex": null,
       "flex_flow": null,
       "grid_area": null,
       "grid_auto_columns": null,
       "grid_auto_flow": null,
       "grid_auto_rows": null,
       "grid_column": null,
       "grid_gap": null,
       "grid_row": null,
       "grid_template_areas": null,
       "grid_template_columns": null,
       "grid_template_rows": null,
       "height": null,
       "justify_content": null,
       "justify_items": null,
       "left": null,
       "margin": null,
       "max_height": null,
       "max_width": null,
       "min_height": null,
       "min_width": null,
       "object_fit": null,
       "object_position": null,
       "order": null,
       "overflow": null,
       "overflow_x": null,
       "overflow_y": null,
       "padding": null,
       "right": null,
       "top": null,
       "visibility": null,
       "width": null
      }
     },
     "2f66232225c34fae9c08fbfd056fab54": {
      "model_module": "@jupyter-widgets/controls",
      "model_module_version": "1.5.0",
      "model_name": "HTMLModel",
      "state": {
       "_dom_classes": [],
       "_model_module": "@jupyter-widgets/controls",
       "_model_module_version": "1.5.0",
       "_model_name": "HTMLModel",
       "_view_count": null,
       "_view_module": "@jupyter-widgets/controls",
       "_view_module_version": "1.5.0",
       "_view_name": "HTMLView",
       "description": "",
       "description_tooltip": null,
       "layout": "IPY_MODEL_2a7d6a03b34e4c7ea1732cff0398a2c0",
       "placeholder": "​",
       "style": "IPY_MODEL_1aadc53c05434e5595c18412ce147746",
       "value": " [100%]   03:16 -&gt; (00:00 left)"
      }
     },
     "7643d96e3d3d47ef8a1bb736c2ce2054": {
      "model_module": "@jupyter-widgets/base",
      "model_module_version": "1.2.0",
      "model_name": "LayoutModel",
      "state": {
       "_model_module": "@jupyter-widgets/base",
       "_model_module_version": "1.2.0",
       "_model_name": "LayoutModel",
       "_view_count": null,
       "_view_module": "@jupyter-widgets/base",
       "_view_module_version": "1.2.0",
       "_view_name": "LayoutView",
       "align_content": null,
       "align_items": null,
       "align_self": null,
       "border": null,
       "bottom": null,
       "display": null,
       "flex": "2",
       "flex_flow": null,
       "grid_area": null,
       "grid_auto_columns": null,
       "grid_auto_flow": null,
       "grid_auto_rows": null,
       "grid_column": null,
       "grid_gap": null,
       "grid_row": null,
       "grid_template_areas": null,
       "grid_template_columns": null,
       "grid_template_rows": null,
       "height": null,
       "justify_content": null,
       "justify_items": null,
       "left": null,
       "margin": null,
       "max_height": null,
       "max_width": null,
       "min_height": null,
       "min_width": null,
       "object_fit": null,
       "object_position": null,
       "order": null,
       "overflow": null,
       "overflow_x": null,
       "overflow_y": null,
       "padding": null,
       "right": null,
       "top": null,
       "visibility": null,
       "width": null
      }
     },
     "a2d9a325ca124f768ed4c2dcd0743da2": {
      "model_module": "@jupyter-widgets/base",
      "model_module_version": "1.2.0",
      "model_name": "LayoutModel",
      "state": {
       "_model_module": "@jupyter-widgets/base",
       "_model_module_version": "1.2.0",
       "_model_name": "LayoutModel",
       "_view_count": null,
       "_view_module": "@jupyter-widgets/base",
       "_view_module_version": "1.2.0",
       "_view_name": "LayoutView",
       "align_content": null,
       "align_items": null,
       "align_self": null,
       "border": null,
       "bottom": null,
       "display": "inline-flex",
       "flex": null,
       "flex_flow": "row wrap",
       "grid_area": null,
       "grid_auto_columns": null,
       "grid_auto_flow": null,
       "grid_auto_rows": null,
       "grid_column": null,
       "grid_gap": null,
       "grid_row": null,
       "grid_template_areas": null,
       "grid_template_columns": null,
       "grid_template_rows": null,
       "height": null,
       "justify_content": null,
       "justify_items": null,
       "left": null,
       "margin": null,
       "max_height": null,
       "max_width": null,
       "min_height": null,
       "min_width": null,
       "object_fit": null,
       "object_position": null,
       "order": null,
       "overflow": null,
       "overflow_x": null,
       "overflow_y": null,
       "padding": null,
       "right": null,
       "top": null,
       "visibility": null,
       "width": "100%"
      }
     },
     "b4fe466a52a0489d8b3c5f01a6c3dec0": {
      "model_module": "@jupyter-widgets/controls",
      "model_module_version": "1.5.0",
      "model_name": "HTMLModel",
      "state": {
       "_dom_classes": [],
       "_model_module": "@jupyter-widgets/controls",
       "_model_module_version": "1.5.0",
       "_model_name": "HTMLModel",
       "_view_count": null,
       "_view_module": "@jupyter-widgets/controls",
       "_view_module_version": "1.5.0",
       "_view_name": "HTMLView",
       "description": "",
       "description_tooltip": null,
       "layout": "IPY_MODEL_f874d6398d02408eb08a5bb4c6967fcd",
       "placeholder": "​",
       "style": "IPY_MODEL_28a2aa54ca1f4ad18d4efc9b1c2c29f7",
       "value": "Feature: lda_countvec100                     "
      }
     },
     "f403e6bb28034521a791dedf31bbdd9f": {
      "model_module": "@jupyter-widgets/controls",
      "model_module_version": "1.5.0",
      "model_name": "HBoxModel",
      "state": {
       "_dom_classes": [],
       "_model_module": "@jupyter-widgets/controls",
       "_model_module_version": "1.5.0",
       "_model_name": "HBoxModel",
       "_view_count": null,
       "_view_module": "@jupyter-widgets/controls",
       "_view_module_version": "1.5.0",
       "_view_name": "HBoxView",
       "box_style": "",
       "children": [
        "IPY_MODEL_b4fe466a52a0489d8b3c5f01a6c3dec0",
        "IPY_MODEL_1d214d387a6b4339a5122f2fe869bf3e",
        "IPY_MODEL_2f66232225c34fae9c08fbfd056fab54"
       ],
       "layout": "IPY_MODEL_a2d9a325ca124f768ed4c2dcd0743da2"
      }
     },
     "f874d6398d02408eb08a5bb4c6967fcd": {
      "model_module": "@jupyter-widgets/base",
      "model_module_version": "1.2.0",
      "model_name": "LayoutModel",
      "state": {
       "_model_module": "@jupyter-widgets/base",
       "_model_module_version": "1.2.0",
       "_model_name": "LayoutModel",
       "_view_count": null,
       "_view_module": "@jupyter-widgets/base",
       "_view_module_version": "1.2.0",
       "_view_name": "LayoutView",
       "align_content": null,
       "align_items": null,
       "align_self": null,
       "border": null,
       "bottom": null,
       "display": null,
       "flex": null,
       "flex_flow": null,
       "grid_area": null,
       "grid_auto_columns": null,
       "grid_auto_flow": null,
       "grid_auto_rows": null,
       "grid_column": null,
       "grid_gap": null,
       "grid_row": null,
       "grid_template_areas": null,
       "grid_template_columns": null,
       "grid_template_rows": null,
       "height": null,
       "justify_content": null,
       "justify_items": null,
       "left": null,
       "margin": null,
       "max_height": null,
       "max_width": null,
       "min_height": null,
       "min_width": null,
       "object_fit": null,
       "object_position": null,
       "order": null,
       "overflow": null,
       "overflow_x": null,
       "overflow_y": null,
       "padding": null,
       "right": null,
       "top": null,
       "visibility": null,
       "width": null
      }
     }
    },
    "version_major": 2,
    "version_minor": 0
   }
  }
 },
 "nbformat": 4,
 "nbformat_minor": 5
}
